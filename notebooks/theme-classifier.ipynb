{
 "cells": [
  {
   "cell_type": "code",
   "execution_count": 1,
   "metadata": {
    "ExecuteTime": {
     "end_time": "2020-06-09T18:56:23.824487Z",
     "start_time": "2020-06-09T18:56:23.655404Z"
    }
   },
   "outputs": [],
   "source": [
    "import pandas as pd"
   ]
  },
  {
   "cell_type": "code",
   "execution_count": 2,
   "metadata": {
    "ExecuteTime": {
     "end_time": "2020-06-09T18:56:23.864587Z",
     "start_time": "2020-06-09T18:56:23.828818Z"
    }
   },
   "outputs": [],
   "source": [
    "df = pd.read_csv(\"data/justificativas_amostra.csv\", sep='|', quotechar = '\\\"')"
   ]
  },
  {
   "cell_type": "code",
   "execution_count": 166,
   "metadata": {
    "ExecuteTime": {
     "end_time": "2020-06-10T15:57:31.895968Z",
     "start_time": "2020-06-10T15:57:31.865609Z"
    }
   },
   "outputs": [
    {
     "data": {
      "text/html": [
       "<div>\n",
       "<style scoped>\n",
       "    .dataframe tbody tr th:only-of-type {\n",
       "        vertical-align: middle;\n",
       "    }\n",
       "\n",
       "    .dataframe tbody tr th {\n",
       "        vertical-align: top;\n",
       "    }\n",
       "\n",
       "    .dataframe thead th {\n",
       "        text-align: right;\n",
       "    }\n",
       "</style>\n",
       "<table border=\"1\" class=\"dataframe\">\n",
       "  <thead>\n",
       "    <tr style=\"text-align: right;\">\n",
       "      <th></th>\n",
       "      <th>arquivo</th>\n",
       "      <th>id</th>\n",
       "      <th>numero</th>\n",
       "      <th>tipo</th>\n",
       "      <th>texto_anterior</th>\n",
       "      <th>justificativa</th>\n",
       "      <th>full_text</th>\n",
       "      <th>siglaTipo</th>\n",
       "      <th>codTema</th>\n",
       "      <th>tema</th>\n",
       "      <th>relevancia</th>\n",
       "    </tr>\n",
       "  </thead>\n",
       "  <tbody>\n",
       "    <tr>\n",
       "      <td>0</td>\n",
       "      <td>278680_3_PLV.pdf</td>\n",
       "      <td>3PLV</td>\n",
       "      <td>3</td>\n",
       "      <td>PLV</td>\n",
       "      <td>CÂMARA DOS DEPUTADOS  MEDIDA PROVISÓRIA N.º 22...</td>\n",
       "      <td></td>\n",
       "      <td>CÂMARA DOS DEPUTADOS  MEDIDA PROVISÓRIA N.º 22...</td>\n",
       "      <td>PLV</td>\n",
       "      <td>44</td>\n",
       "      <td>Direitos Humanos e Minorias</td>\n",
       "      <td>0</td>\n",
       "    </tr>\n",
       "    <tr>\n",
       "      <td>1</td>\n",
       "      <td>278680_3_PLV.pdf</td>\n",
       "      <td>3PLV</td>\n",
       "      <td>3</td>\n",
       "      <td>PLV</td>\n",
       "      <td>CÂMARA DOS DEPUTADOS  MEDIDA PROVISÓRIA N.º 22...</td>\n",
       "      <td></td>\n",
       "      <td>CÂMARA DOS DEPUTADOS  MEDIDA PROVISÓRIA N.º 22...</td>\n",
       "      <td>PLV</td>\n",
       "      <td>70</td>\n",
       "      <td>Finanças Públicas e Orçamento</td>\n",
       "      <td>0</td>\n",
       "    </tr>\n",
       "    <tr>\n",
       "      <td>4</td>\n",
       "      <td>278680_3_PLV.pdf</td>\n",
       "      <td>3PLV</td>\n",
       "      <td>3</td>\n",
       "      <td>PLV</td>\n",
       "      <td>CÂMARA DOS DEPUTADOS  MEDIDA PROVISÓRIA N.º 22...</td>\n",
       "      <td></td>\n",
       "      <td>CÂMARA DOS DEPUTADOS  MEDIDA PROVISÓRIA N.º 22...</td>\n",
       "      <td>PLV</td>\n",
       "      <td>56</td>\n",
       "      <td>Saúde</td>\n",
       "      <td>0</td>\n",
       "    </tr>\n",
       "  </tbody>\n",
       "</table>\n",
       "</div>"
      ],
      "text/plain": [
       "            arquivo    id  numero tipo  \\\n",
       "0  278680_3_PLV.pdf  3PLV       3  PLV   \n",
       "1  278680_3_PLV.pdf  3PLV       3  PLV   \n",
       "4  278680_3_PLV.pdf  3PLV       3  PLV   \n",
       "\n",
       "                                      texto_anterior justificativa  \\\n",
       "0  CÂMARA DOS DEPUTADOS  MEDIDA PROVISÓRIA N.º 22...                 \n",
       "1  CÂMARA DOS DEPUTADOS  MEDIDA PROVISÓRIA N.º 22...                 \n",
       "4  CÂMARA DOS DEPUTADOS  MEDIDA PROVISÓRIA N.º 22...                 \n",
       "\n",
       "                                           full_text siglaTipo  codTema  \\\n",
       "0  CÂMARA DOS DEPUTADOS  MEDIDA PROVISÓRIA N.º 22...       PLV       44   \n",
       "1  CÂMARA DOS DEPUTADOS  MEDIDA PROVISÓRIA N.º 22...       PLV       70   \n",
       "4  CÂMARA DOS DEPUTADOS  MEDIDA PROVISÓRIA N.º 22...       PLV       56   \n",
       "\n",
       "                            tema  relevancia  \n",
       "0    Direitos Humanos e Minorias           0  \n",
       "1  Finanças Públicas e Orçamento           0  \n",
       "4                          Saúde           0  "
      ]
     },
     "execution_count": 166,
     "metadata": {},
     "output_type": "execute_result"
    }
   ],
   "source": [
    "df.head()"
   ]
  },
  {
   "cell_type": "code",
   "execution_count": 5,
   "metadata": {
    "ExecuteTime": {
     "end_time": "2020-06-10T14:08:51.049975Z",
     "start_time": "2020-06-10T14:08:51.019036Z"
    }
   },
   "outputs": [],
   "source": [
    "%reload_ext autoreload\n",
    "%autoreload 2\n",
    "%matplotlib inline\n",
    "\n",
    "from fastai import *\n",
    "from fastai.text import *\n",
    "DIRECTORY_PATH = '/home/semarm/embeddings-leis/'\n",
    "bs=32"
   ]
  },
  {
   "cell_type": "code",
   "execution_count": 6,
   "metadata": {
    "ExecuteTime": {
     "end_time": "2020-06-10T14:08:52.436149Z",
     "start_time": "2020-06-10T14:08:52.410947Z"
    }
   },
   "outputs": [],
   "source": [
    "torch.cuda.set_device(1)"
   ]
  },
  {
   "cell_type": "code",
   "execution_count": 7,
   "metadata": {
    "ExecuteTime": {
     "end_time": "2020-06-10T14:08:52.613122Z",
     "start_time": "2020-06-10T14:08:52.585259Z"
    }
   },
   "outputs": [
    {
     "data": {
      "text/plain": [
       "[PosixPath('/home/semarm/embeddings-leis/proposicoes.zip'),\n",
       " PosixPath('/home/semarm/embeddings-leis/proposicoes'),\n",
       " PosixPath('/home/semarm/embeddings-leis/pdfs'),\n",
       " PosixPath('/home/semarm/embeddings-leis/Untitled.ipynb'),\n",
       " PosixPath('/home/semarm/embeddings-leis/POC'),\n",
       " PosixPath('/home/semarm/embeddings-leis/data'),\n",
       " PosixPath('/home/semarm/embeddings-leis/text'),\n",
       " PosixPath('/home/semarm/embeddings-leis/README.md'),\n",
       " PosixPath('/home/semarm/embeddings-leis/scripts'),\n",
       " PosixPath('/home/semarm/embeddings-leis/2006-2007'),\n",
       " PosixPath('/home/semarm/embeddings-leis/.ipynb_checkpoints'),\n",
       " PosixPath('/home/semarm/embeddings-leis/output'),\n",
       " PosixPath('/home/semarm/embeddings-leis/export_POC'),\n",
       " PosixPath('/home/semarm/embeddings-leis/.git'),\n",
       " PosixPath('/home/semarm/embeddings-leis/proposicoes-temas'),\n",
       " PosixPath('/home/semarm/embeddings-leis/pdfs.tar.gz'),\n",
       " PosixPath('/home/semarm/embeddings-leis/2008-2010'),\n",
       " PosixPath('/home/semarm/embeddings-leis/.gitignore'),\n",
       " PosixPath('/home/semarm/embeddings-leis/LICENSE'),\n",
       " PosixPath('/home/semarm/embeddings-leis/Cloud'),\n",
       " PosixPath('/home/semarm/embeddings-leis/2004-2005'),\n",
       " PosixPath('/home/semarm/embeddings-leis/2002-2003'),\n",
       " PosixPath('/home/semarm/embeddings-leis/requirements.txt'),\n",
       " PosixPath('/home/semarm/embeddings-leis/2012-2013')]"
      ]
     },
     "execution_count": 7,
     "metadata": {},
     "output_type": "execute_result"
    }
   ],
   "source": [
    "home_dir = Path(DIRECTORY_PATH)\n",
    "data_dir = Path('/home/semarm/embeddings-leis/data')\n",
    "models_dir = Path(\"/home/semarm/embeddings-leis/models\")\n",
    "home_dir.ls()"
   ]
  },
  {
   "cell_type": "code",
   "execution_count": 10,
   "metadata": {
    "ExecuteTime": {
     "end_time": "2020-06-10T14:11:56.689573Z",
     "start_time": "2020-06-10T14:11:56.553349Z"
    }
   },
   "outputs": [],
   "source": [
    "df_lm = pd.read_csv(\"data/justificativas_10-06.csv\", sep = '|', quotechar = '\\\"')"
   ]
  },
  {
   "cell_type": "code",
   "execution_count": 11,
   "metadata": {
    "ExecuteTime": {
     "end_time": "2020-06-10T14:12:00.985803Z",
     "start_time": "2020-06-10T14:12:00.954292Z"
    }
   },
   "outputs": [
    {
     "data": {
      "text/html": [
       "<div>\n",
       "<style scoped>\n",
       "    .dataframe tbody tr th:only-of-type {\n",
       "        vertical-align: middle;\n",
       "    }\n",
       "\n",
       "    .dataframe tbody tr th {\n",
       "        vertical-align: top;\n",
       "    }\n",
       "\n",
       "    .dataframe thead th {\n",
       "        text-align: right;\n",
       "    }\n",
       "</style>\n",
       "<table border=\"1\" class=\"dataframe\">\n",
       "  <thead>\n",
       "    <tr style=\"text-align: right;\">\n",
       "      <th></th>\n",
       "      <th>arquivo</th>\n",
       "      <th>id</th>\n",
       "      <th>numero</th>\n",
       "      <th>tipo</th>\n",
       "      <th>texto_anterior</th>\n",
       "      <th>justificativa</th>\n",
       "    </tr>\n",
       "  </thead>\n",
       "  <tbody>\n",
       "    <tr>\n",
       "      <td>0</td>\n",
       "      <td>278680_3_PLV.pdf</td>\n",
       "      <td>278680</td>\n",
       "      <td>3</td>\n",
       "      <td>PLV</td>\n",
       "      <td>CÂMARA DOS DEPUTADOS  MEDIDA PROVISÓRIA N.º 22...</td>\n",
       "      <td>NaN</td>\n",
       "    </tr>\n",
       "    <tr>\n",
       "      <td>1</td>\n",
       "      <td>382959_110_PRC.pdf</td>\n",
       "      <td>382959</td>\n",
       "      <td>110</td>\n",
       "      <td>PRC</td>\n",
       "      <td>PROJETO DE RESOLUÇÃO NO  , DE 2008  (Da Sra. V...</td>\n",
       "      <td>O projeto de resolução que estamos apresentand...</td>\n",
       "    </tr>\n",
       "    <tr>\n",
       "      <td>2</td>\n",
       "      <td>490979_2_PLP.pdf</td>\n",
       "      <td>490979</td>\n",
       "      <td>2</td>\n",
       "      <td>PLP</td>\n",
       "      <td>PROJETO DE LEI COMPLEMENTAR N.º  , de 2011  (D...</td>\n",
       "      <td>para a não execução de gastos relativos ao rel...</td>\n",
       "    </tr>\n",
       "    <tr>\n",
       "      <td>3</td>\n",
       "      <td>533892_132_PEC.pdf</td>\n",
       "      <td>533892</td>\n",
       "      <td>132</td>\n",
       "      <td>PEC</td>\n",
       "      <td>PROPOSTA DE EMENDA À CONSTITUIÇÃO N.° ________...</td>\n",
       "      <td>Desnecessário afirmar que a concessão de meios...</td>\n",
       "    </tr>\n",
       "    <tr>\n",
       "      <td>4</td>\n",
       "      <td>2076593_4258_PL.pdf</td>\n",
       "      <td>2076593</td>\n",
       "      <td>4258</td>\n",
       "      <td>PL</td>\n",
       "      <td>CÂMARA DOS DEPUTADOS PROJETO DE LEI N° _______...</td>\n",
       "      <td>O art. 60 da Lei nº 12.249, de 11 de junho de ...</td>\n",
       "    </tr>\n",
       "  </tbody>\n",
       "</table>\n",
       "</div>"
      ],
      "text/plain": [
       "               arquivo       id  numero tipo  \\\n",
       "0     278680_3_PLV.pdf   278680       3  PLV   \n",
       "1   382959_110_PRC.pdf   382959     110  PRC   \n",
       "2     490979_2_PLP.pdf   490979       2  PLP   \n",
       "3   533892_132_PEC.pdf   533892     132  PEC   \n",
       "4  2076593_4258_PL.pdf  2076593    4258   PL   \n",
       "\n",
       "                                      texto_anterior  \\\n",
       "0  CÂMARA DOS DEPUTADOS  MEDIDA PROVISÓRIA N.º 22...   \n",
       "1  PROJETO DE RESOLUÇÃO NO  , DE 2008  (Da Sra. V...   \n",
       "2  PROJETO DE LEI COMPLEMENTAR N.º  , de 2011  (D...   \n",
       "3  PROPOSTA DE EMENDA À CONSTITUIÇÃO N.° ________...   \n",
       "4  CÂMARA DOS DEPUTADOS PROJETO DE LEI N° _______...   \n",
       "\n",
       "                                       justificativa  \n",
       "0                                                NaN  \n",
       "1  O projeto de resolução que estamos apresentand...  \n",
       "2  para a não execução de gastos relativos ao rel...  \n",
       "3  Desnecessário afirmar que a concessão de meios...  \n",
       "4  O art. 60 da Lei nº 12.249, de 11 de junho de ...  "
      ]
     },
     "execution_count": 11,
     "metadata": {},
     "output_type": "execute_result"
    }
   ],
   "source": [
    "df_lm.head()"
   ]
  },
  {
   "cell_type": "code",
   "execution_count": 207,
   "metadata": {
    "ExecuteTime": {
     "end_time": "2020-06-10T16:09:33.050031Z",
     "start_time": "2020-06-10T16:09:33.021118Z"
    }
   },
   "outputs": [],
   "source": [
    "df_lm = df_lm.fillna('')\n",
    "df_lm['id'] = df_lm['numero'].map(str) + df_lm['tipo']\n",
    "df_lm['full_text'] = df_lm['texto_anterior'] + df_lm['justificativa']"
   ]
  },
  {
   "cell_type": "code",
   "execution_count": 208,
   "metadata": {
    "ExecuteTime": {
     "end_time": "2020-06-10T16:09:34.381551Z",
     "start_time": "2020-06-10T16:09:34.351932Z"
    }
   },
   "outputs": [
    {
     "data": {
      "text/html": [
       "<div>\n",
       "<style scoped>\n",
       "    .dataframe tbody tr th:only-of-type {\n",
       "        vertical-align: middle;\n",
       "    }\n",
       "\n",
       "    .dataframe tbody tr th {\n",
       "        vertical-align: top;\n",
       "    }\n",
       "\n",
       "    .dataframe thead th {\n",
       "        text-align: right;\n",
       "    }\n",
       "</style>\n",
       "<table border=\"1\" class=\"dataframe\">\n",
       "  <thead>\n",
       "    <tr style=\"text-align: right;\">\n",
       "      <th></th>\n",
       "      <th>arquivo</th>\n",
       "      <th>id</th>\n",
       "      <th>numero</th>\n",
       "      <th>tipo</th>\n",
       "      <th>texto_anterior</th>\n",
       "      <th>justificativa</th>\n",
       "      <th>full_text</th>\n",
       "      <th>siglaTipo</th>\n",
       "    </tr>\n",
       "  </thead>\n",
       "  <tbody>\n",
       "    <tr>\n",
       "      <td>0</td>\n",
       "      <td>278680_3_PLV.pdf</td>\n",
       "      <td>3PLV</td>\n",
       "      <td>3</td>\n",
       "      <td>PLV</td>\n",
       "      <td>CÂMARA DOS DEPUTADOS  MEDIDA PROVISÓRIA N.º 22...</td>\n",
       "      <td></td>\n",
       "      <td>CÂMARA DOS DEPUTADOS  MEDIDA PROVISÓRIA N.º 22...</td>\n",
       "      <td>PLV</td>\n",
       "    </tr>\n",
       "    <tr>\n",
       "      <td>1</td>\n",
       "      <td>382959_110_PRC.pdf</td>\n",
       "      <td>110PRC</td>\n",
       "      <td>110</td>\n",
       "      <td>PRC</td>\n",
       "      <td>PROJETO DE RESOLUÇÃO NO  , DE 2008  (Da Sra. V...</td>\n",
       "      <td>O projeto de resolução que estamos apresentand...</td>\n",
       "      <td>PROJETO DE RESOLUÇÃO NO  , DE 2008  (Da Sra. V...</td>\n",
       "      <td>PRC</td>\n",
       "    </tr>\n",
       "    <tr>\n",
       "      <td>2</td>\n",
       "      <td>490979_2_PLP.pdf</td>\n",
       "      <td>2PLP</td>\n",
       "      <td>2</td>\n",
       "      <td>PLP</td>\n",
       "      <td>PROJETO DE LEI COMPLEMENTAR N.º  , de 2011  (D...</td>\n",
       "      <td>para a não execução de gastos relativos ao rel...</td>\n",
       "      <td>PROJETO DE LEI COMPLEMENTAR N.º  , de 2011  (D...</td>\n",
       "      <td>PLP</td>\n",
       "    </tr>\n",
       "    <tr>\n",
       "      <td>3</td>\n",
       "      <td>533892_132_PEC.pdf</td>\n",
       "      <td>132PEC</td>\n",
       "      <td>132</td>\n",
       "      <td>PEC</td>\n",
       "      <td>PROPOSTA DE EMENDA À CONSTITUIÇÃO N.° ________...</td>\n",
       "      <td>Desnecessário afirmar que a concessão de meios...</td>\n",
       "      <td>PROPOSTA DE EMENDA À CONSTITUIÇÃO N.° ________...</td>\n",
       "      <td>PEC</td>\n",
       "    </tr>\n",
       "    <tr>\n",
       "      <td>4</td>\n",
       "      <td>2076593_4258_PL.pdf</td>\n",
       "      <td>4258PL</td>\n",
       "      <td>4258</td>\n",
       "      <td>PL</td>\n",
       "      <td>CÂMARA DOS DEPUTADOS PROJETO DE LEI N° _______...</td>\n",
       "      <td>O art. 60 da Lei nº 12.249, de 11 de junho de ...</td>\n",
       "      <td>CÂMARA DOS DEPUTADOS PROJETO DE LEI N° _______...</td>\n",
       "      <td>PL</td>\n",
       "    </tr>\n",
       "  </tbody>\n",
       "</table>\n",
       "</div>"
      ],
      "text/plain": [
       "               arquivo      id  numero tipo  \\\n",
       "0     278680_3_PLV.pdf    3PLV       3  PLV   \n",
       "1   382959_110_PRC.pdf  110PRC     110  PRC   \n",
       "2     490979_2_PLP.pdf    2PLP       2  PLP   \n",
       "3   533892_132_PEC.pdf  132PEC     132  PEC   \n",
       "4  2076593_4258_PL.pdf  4258PL    4258   PL   \n",
       "\n",
       "                                      texto_anterior  \\\n",
       "0  CÂMARA DOS DEPUTADOS  MEDIDA PROVISÓRIA N.º 22...   \n",
       "1  PROJETO DE RESOLUÇÃO NO  , DE 2008  (Da Sra. V...   \n",
       "2  PROJETO DE LEI COMPLEMENTAR N.º  , de 2011  (D...   \n",
       "3  PROPOSTA DE EMENDA À CONSTITUIÇÃO N.° ________...   \n",
       "4  CÂMARA DOS DEPUTADOS PROJETO DE LEI N° _______...   \n",
       "\n",
       "                                       justificativa  \\\n",
       "0                                                      \n",
       "1  O projeto de resolução que estamos apresentand...   \n",
       "2  para a não execução de gastos relativos ao rel...   \n",
       "3  Desnecessário afirmar que a concessão de meios...   \n",
       "4  O art. 60 da Lei nº 12.249, de 11 de junho de ...   \n",
       "\n",
       "                                           full_text siglaTipo  \n",
       "0  CÂMARA DOS DEPUTADOS  MEDIDA PROVISÓRIA N.º 22...       PLV  \n",
       "1  PROJETO DE RESOLUÇÃO NO  , DE 2008  (Da Sra. V...       PRC  \n",
       "2  PROJETO DE LEI COMPLEMENTAR N.º  , de 2011  (D...       PLP  \n",
       "3  PROPOSTA DE EMENDA À CONSTITUIÇÃO N.° ________...       PEC  \n",
       "4  CÂMARA DOS DEPUTADOS PROJETO DE LEI N° _______...        PL  "
      ]
     },
     "execution_count": 208,
     "metadata": {},
     "output_type": "execute_result"
    }
   ],
   "source": [
    "df_lm.head()"
   ]
  },
  {
   "cell_type": "code",
   "execution_count": 36,
   "metadata": {
    "ExecuteTime": {
     "end_time": "2020-06-10T14:21:14.393684Z",
     "start_time": "2020-06-10T14:21:11.108897Z"
    }
   },
   "outputs": [
    {
     "data": {
      "text/html": [],
      "text/plain": [
       "<IPython.core.display.HTML object>"
      ]
     },
     "metadata": {},
     "output_type": "display_data"
    },
    {
     "data": {
      "text/html": [],
      "text/plain": [
       "<IPython.core.display.HTML object>"
      ]
     },
     "metadata": {},
     "output_type": "display_data"
    },
    {
     "data": {
      "text/plain": [
       "TextLMDataBunch;\n",
       "\n",
       "Train: LabelList (608 items)\n",
       "x: LMTextList\n",
       "xxbos xxup câmara xxup dos xxup deputados xxup medida xxup provisória xxmaj n.º xxunk , xxup de 2004 xxup projeto xxup de xxup lei xxup de xxup conversão xxmaj nº 3 / 2005 xxmaj regulamenta a parte final do disposto no inciso xxup xxxiii do art . 5o da xxmaj constituição e dá outras providências . o xxmaj congresso xxmaj nacional decreta : xxmaj art . 1o xxmaj esta xxmaj lei regulamenta a parte final do disposto no inciso xxup xxxiii do art . 5o da xxmaj constituição . xxmaj art . 2 ° . o acesso aos documentos públicos de interesse particular , ou de interesse coletivo ou geral , será ressalvado exclusivamente nas hipóteses em que o sigilo seja ou xxunk imprescindível à segurança da sociedade e do xxmaj estado , nos termos do disposto na parte final do inciso xxup xxxiii do art . 5o da xxmaj constituição . xxmaj art . 3o xxmaj os documentos públicos que contenham informações cujo sigilo seja imprescindível à segurança da sociedade e do xxmaj estado poderão ser classificados no mais alto grau de sigilo , conforme regulamento . xxmaj art . 4o o xxmaj poder xxmaj executivo xxunk , no âmbito da xxmaj casa xxmaj civil da xxmaj presidência da xxmaj república , xxmaj comissão de xxmaj averiguação e xxmaj análise de xxmaj informações xxmaj sigilosas , com a finalidade de decidir sobre a aplicação da ressalva ao acesso de documentos , em conformidade com o disposto nos parágrafos do art . 6º desta xxmaj lei . xxmaj art . 5º. xxmaj os xxmaj poderes xxmaj legislativo e xxmaj judiciário , o xxmaj ministério xxmaj público da xxmaj união e o xxmaj tribunal de xxmaj contas da xxmaj união disciplinarão internamente sobre a necessidade de manutenção da proteção das informações por eles produzidas , cujo sigilo seja imprescindível à segurança da sociedade e do xxmaj estado , bem assim \n",
       " 2 a possibilidade de seu acesso quando cessar essa necessidade , observada a xxmaj lei n.º 8.159 , de 8 de janeiro de 1991 , e o disposto na presente xxmaj lei . xxmaj art . 6o o acesso aos documentos públicos classificados no mais alto grau de sigilo poderá ser xxunk pelo prazo e prorrogação previstos no § 2o do art . 23 da xxmaj lei no 8.159 , de 8 de janeiro de 1991 . § 1o xxmaj vencido o prazo ou sua prorrogação de que trata o caput , os documentos classificados no mais alto grau de sigilo tornar - se - ão de acesso público . § 2º xxmaj antes de xxunk a prorrogação do prazo de que trata o caput , a autoridade competente para a classificação do documento no mais alto grau de sigilo poderá provocar , de modo justificado , a manifestação da xxmaj comissão de xxmaj averiguação e xxmaj análise de xxmaj informações xxmaj sigilosas para que avalie se o acesso ao documento xxunk a soberania , a integridade territorial nacional ou as relações internacionais do xxmaj país , caso em que a xxmaj comissão poderá manter a permanência da ressalva ao acesso do documento pelo tempo que xxunk § 3o xxmaj qualquer pessoa que demonstre possuir efetivo interesse poderá provocar , no momento que lhe xxunk , a manifestação da xxmaj comissão de xxmaj averiguação e xxmaj análise de xxmaj informações xxmaj sigilosas para que xxunk a decisão de ressalva a acesso de documento público classificado no mais alto grau de sigilo . § 4o xxmaj na hipótese a que se refere o parágrafo anterior , a xxmaj comissão de xxmaj averiguação e xxmaj análise de xxmaj informações xxmaj sigilosas decidirá pela : i - autorização de acesso livre ou condicionado ao documento ; ou xxup ii - permanência da ressalva ao seu acesso . xxmaj art . 7º xxmaj os documentos públicos que contenham informações relacionadas à xxunk , vida privada , honra e imagem de pessoas , e que sejam ou venham a ser de livre acesso poderão ser xxunk por meio de certidão ou cópia do documento , que xxunk ou xxunk a parte sobre o qual xxunk o disposto no inciso x do art . 5º da xxmaj constituição . \n",
       " 3 xxmaj parágrafo único . xxmaj as informações sobre as quais xxunk ao disposto no inciso x do art . 5º da xxmaj constituição terão o seu acesso restrito à pessoa diretamente interessada ou , em se tratando de morto ou xxunk , ao seu cônjuge , xxunk ou descendentes , no prazo de que trata o § 3o do art . 23 da xxmaj lei no 8.159 , de 1991 . xxmaj art . 8o xxmaj esta xxmaj lei entra em vigor na data de sua publicação . xxmaj sala das xxmaj sessões , em 15 de março de 2005 xxmaj deputado xxup sérgio xxup miranda pcdob / xxup mg,xxbos xxup projeto xxup de xxup lei xxup complementar xxmaj n.º , de 2011 ( xxmaj do xxmaj sr . xxmaj otavio xxmaj leite ) xxmaj inclui art . xxup xxunk e parágrafo no art . 65 e altera a descrição da xxmaj subseção i da xxmaj seção i do xxmaj capítulo xxup iv da xxmaj lei xxmaj complementar nº 101 de 4 de maio de 2000 . o xxmaj congresso xxmaj nacional decreta : xxmaj art . 1º. a xxmaj lei xxmaj complementar n.º 101 , de 4 de maio de 2000 , passa a vigorar acrescida do artigo xxup xxunk , e § 2º do artigo 65 , xxunk o seu parágrafo único para § 1º. : “ xxmaj subseção i xxmaj da xxmaj despesa xxmaj obrigatória de xxmaj caráter xxmaj continuado e xxmaj emergencial ... xxmaj art . xxup xxunk xxmaj considera - se obrigatória de caráter emergencial a despesa xxunk de lei , medida provisória ou ato administrativo normativo que estabeleça dotações para fins de prevenção para desastres , aplicando - se as disposições relativas ao relatório previsto no § 2º. do artigo 65 da presente lei complementar . ... xxmaj art . 65 . ... ... \n",
       " § 2º. o efetivo reconhecimento legislativo para efetivação de providências ao atendimento do constante no caput deste artigo implicará na obrigatoriedade dos gastos previstos , sendo igualmente obrigatório o envio de relatório xxunk da sua execução orçamentária ao xxmaj poder xxmaj legislativo , atribuído especificamente a um gestor responsável , até 30 de novembro de cada exercício financeiro , xxunk crime de responsabilidade pelo titular do órgão a falta xxunk a não execução de gastos relativos ao relatório . ” xxmaj art . 2º. xxmaj esta lei complementar entra em vigor na data de sua publicação .,xxbos xxup proposta xxup de xxup emenda à xxup constituição xxup n. ° xxrep 9 _ , xxup de 2011 ( xxmaj do xxmaj sr . xxmaj reinaldo xxmaj azambuja ) xxmaj acrescenta o art . 98 e xxmaj parágrafo único aos xxmaj atos de xxmaj disposições xxmaj constitucionais xxmaj transitórias da xxmaj constituição xxmaj federal , que institui no “ xxmaj âmbito do xxmaj poder xxmaj executivo xxmaj federal , xxmaj fundo xxmaj nacional de xxmaj atendimento e xxmaj recuperação xxmaj urgente de xxmaj comunidades xxmaj atingidas por xxmaj catástrofes xxmaj naturais . ” xxmaj art . 1º xxmaj aos xxmaj atos das xxmaj disposições xxmaj constitucionais xxmaj transitórias da xxmaj constituição xxmaj federal acrescenta - se o art . 98 e xxmaj parágrafo xxmaj único , que passará a viger com a seguinte redação : xxmaj art . 98 . é instituído , no âmbito do xxmaj poder xxmaj executivo xxmaj federal , xxmaj fundo xxmaj nacional de xxmaj atendimento e xxmaj recuperação xxmaj urgente das xxmaj comunidades xxmaj atingidas por xxmaj catástrofes xxmaj naturais , a ser regulado por lei complementar com o objetivo de viabilizar atendimento urgente e prioritário às comunidades atingidas por catástrofes naturais . xxmaj parágrafo único . o xxmaj fundo será constituído pelos recursos financeiros e materiais previstos na lei complementar que o regulamentar , que deverá ser editada no prazo de 30 ( trinta ) dias a contar da promulgação da presente xxmaj emenda . xxmaj desnecessário afirmar que a concessão de meios materiais e financeiros para as comunidades atingidas por catástrofes naturais passa por um xxunk processo , sujeito a toda ordem de xxunk burocráticos e legislativos . xxmaj exemplos da morosidade no atendimento de tais comunidades não faltam , já que é xxunk na mídia a notícia de que existem municípios \n",
       " atingidos pelas chuvas em 2008 e até agora não receberam a necessária ajuda do xxmaj poder xxmaj central . a instituição do xxmaj fundo específico , com recursos orçamentários e xxunk ( empresas , ongs , sociedade civil organizada , etc . ) poderá , se bem gerido e xxunk com rigor , atender , de pronto , as comunidades que dele xxunk . a importância e urgência na instituição do referido xxmaj fundo , dispensa qualquer fundamentação xxunk . xxmaj sala de xxmaj sessões , em de outubro de 2011 . xxmaj reinaldo xxmaj azambuja xxmaj deputado xxmaj federal xxup psdb / xxup ms xxup proposta xxup de xxup emenda xxup constitucional xxup n. ° xxrep 9 _ , xxup de 2011 ( xxmaj do xxmaj sr . xxmaj reinaldo xxmaj azambuja ) xxmaj acrescenta o art . 98 e xxmaj parágrafo único aos xxmaj atos de xxmaj disposições xxmaj constitucionais xxmaj transitórias da xxmaj constituição xxmaj federal , que institui no “ xxmaj âmbito do xxmaj poder xxmaj executivo xxmaj federal , xxmaj fundo xxmaj nacional de xxmaj atendimento e xxmaj recuperação \n",
       " xxmaj urgente de xxmaj comunidades xxmaj atingidas por xxmaj catástrofes xxmaj naturais . ” xxup deputado xxup gab . xxup assinatura,xxbos xxup câmara xxup dos xxup deputados xxup projeto xxup de xxup lei n ° xxrep 7 _ , xxup de 2016 ( xxmaj do xxmaj deputado xxmaj mendonça xxmaj filho ) xxmaj altera a xxmaj lei nº 12.249 , de 11 de junho de 2010 , para dispor sobre a incidência do xxmaj imposto sobre a xxmaj renda xxmaj retido na xxmaj fonte sobre rendimentos pagos , creditados , empregados , entregues ou remetidos para pessoas jurídicas domiciliadas no exterior nas hipóteses que menciona . o xxmaj congresso xxmaj nacional decreta : xxmaj art . 1º a xxmaj lei nº 12.249 , de 11 de junho de 2010 , passa a vigorar com a seguinte redação : “ xxmaj art . 60 . xxmaj ficam isentos do xxmaj imposto de xxmaj renda na fonte , até 31 de dezembro de 2019 , os valores pagos , creditados , entregues , empregados ou remetidos para pessoa física ou jurídica residente ou domiciliada no exterior , destinados à cobertura de gastos pessoais , no exterior , de pessoas físicas residentes no xxmaj país , em viagens de turismo , negócios , serviço , treinamento ou missões oficiais , até o limite global de xxup r$ xxunk ( vinte oito mil cento e vinte reais ) ao mês , nos termos , limites e condições estabelecidos pelo xxmaj poder xxmaj executivo . § 1o xxmaj incluem - se como gastos pessoais no exterior : i - despesas com serviços turísticos , tais como despesas com hotéis , transporte , xxunk , xxunk marítimos , aluguel de automóveis e seguro a xxunk ; xxup ii - despesas para fins educacionais , científicos ou culturais , bem como as destinadas a pagamento de taxas escolares , taxas de inscrição em congressos , xxunk , seminários ou assemelhados e taxas de exames de xxunk ; \n",
       " xxup iii – remessas para manutenção de dependentes no exterior , desde que não se xxunk de rendimentos auferidos pelos xxunk ; xxup iv - remessas por pessoas físicas , residentes e domiciliadas no xxmaj brasil , para cobertura de despesas médico - hospitalares com tratamento de saúde , no exterior , do remetente ou de seus dependentes . § 2o xxmaj salvo se atendidas as condições previstas no art . 26 , o disposto no caput não se aplica ao caso de beneficiário residente ou domiciliado em país ou dependência com tributação favorecida ou pessoa física ou jurídica submetida a regime fiscal privilegiado , de que tratam os arts . 24 e xxup 24-a da xxmaj lei no 9.430 , de 27 de dezembro de 1996 . § 3o o limite global previsto no caput não se aplica em relação às operadoras e agências de viagem . § 4o xxmaj as operadoras e agências de viagem , na hipótese de cumprimento da ressalva constante do § 2o , sujeitam - se ao limite de xxup r$ xxunk ( quatorze mil e sessenta reais ) ao mês por passageiro , obedecida a regulamentação do xxmaj poder xxmaj executivo , quanto a limites , quantidade de passageiros e condições para utilização da isenção , conforme o tipo de gasto custeado . § 5o xxmaj para fins de cumprimento das condições de isenção de que trata este artigo , as operadoras e agências de viagem deverão ser cadastradas no xxmaj ministério do xxmaj turismo e suas operações devem ser realizadas por intermédio de instituição financeira domiciliada no xxmaj país . ” ( xxup nr ) xxmaj art . 2º xxmaj esta xxmaj lei entra em vigor na data de sua publicação . o art . 60 da xxmaj lei nº 12.249 , de 11 de junho de 2010 , xxunk isenção do recolhimento do xxmaj imposto de xxmaj renda na fonte sobre gastos realizados no exterior , destinados à cobertura de gastos pessoais de pessoas físicas residentes no xxmaj país , em viagens de turismo , negócios , serviço , treinamento ou missões oficiais , até o limite global de xxup r$ 20.000,00 ( vinte mil reais ) ao mês . xxmaj para as agências de viagem e turismo o limite era de 10 mil reais ao mês por passageiro . xxmaj no entanto , com a xxunk do prazo do benefício , em 31 de dezembro de 2015 , simples remessas para pagamentos de reservas em hotéis , parques ou \n",
       " locação de veículos no exterior passaram a recolher o xxup xxunk na fonte , à alíquota de 25 % , independentemente do valor xxunk . o fim da isenção xxunk diretamente o setor de turismo , particularmente operadoras e agências de viagens . xxmaj dados da xxmaj associação xxmaj brasileira de xxmaj agências de xxmaj viagens ( xxmaj xxunk ) e da xxmaj associação xxmaj brasileira das xxmaj operadoras de xxmaj turismo apontam que o número de postos de trabalho xxunk no setor pode chegar a 184 mil diretos e xxunk mil indiretos . xxmaj acrescentem - se ainda as dúvidas e incertezas geradas pelo fim da isenção . o art . xxunk do xxmaj decreto xxunk , de 26 de março de 1999 , xxunk um rol de remessas ao exterior sujeitas à isenção do recolhimento do xxup xxunk na fonte , tais como aquelas destinadas à manutenção de dependentes no exterior , remessas para fins educacionais , científicos ou culturais , dentre outras . xxmaj em que pese as disposições do aludido xxmaj decreto , há relatos de que diversas instituições financeiras estão exigindo o recolhimento do imposto previamente à realização das remessas , o que tem provocado transtornos de toda ordem a milhares de pessoas em todo o xxmaj país . xxmaj face ao exposto e , considerando a necessidade de previsão legal para concessão do referido benefício fiscal , o presente projeto de lei altera o prazo de isenção constante do art . 60 da xxmaj lei nº 12.249 , de 2010 , xxunk - o para 31 de dezembro de 2019 , bem como xxunk monetariamente os limites de isenção pela variação do xxmaj índice xxmaj nacional de xxmaj preços ao xxmaj consumidor xxmaj amplo ( xxup ipca ) do período de janeiro / 2011 a dezembro / 2015 , de forma a proteger os cidadãos e os setores atingidos pela xxunk do prazo . xxmaj sala das xxmaj sessões , xxrep 5 _ de xxrep 14 _ de 2016 . xxup mendonça xxup filho xxmaj deputado xxmaj federal,xxbos xxmaj altera a xxmaj lei nº 9.394 , de 20 de dezembro de 1996 , xxmaj lei de xxmaj diretrizes e xxmaj bases da xxmaj educação , para dispor sobre a obrigatoriedade do ensino da música na educação básica . o xxmaj congresso xxmaj nacional decreta : xxmaj art . 1º o art . 26 da xxmaj lei nº 9.394 , de 20 de dezembro de 1996 , passa a vigorar acrescido dos seguintes § § : “ xxmaj art . 26 . xxrep 93 . xxrep 109 . § 6º a música deverá ser conteúdo obrigatório , mas não exclusivo , do xxunk xxunk de que trata o § 2º. § 7º o ensino da música será ministrado por professores com formação específica na área . ” ( xxup nr ) xxmaj art . 2º xxmaj os sistemas de ensino terão xxunk ) anos letivos para se xxunk às exigências estabelecidas no art . 1º. xxmaj art . 3º xxmaj esta xxmaj lei entra em vigor na data de sua publicação . xxmaj senado xxmaj federal , em de janeiro de 2008 . xxmaj senador xxmaj xxunk xxmaj alves xxmaj filho xxmaj presidente do xxmaj senado xxmaj federal gab / xxunk - 330 t\n",
       "y: LMLabelList\n",
       ",,,,\n",
       "Path: .;\n",
       "\n",
       "Valid: LabelList (151 items)\n",
       "x: LMTextList\n",
       "xxbos,xxbos xxup medida xxup provisória xxmaj nº xxunk , xxup de 17 xxup de xxup janeiro xxup de 2014 xxmaj altera a xxmaj lei nº xxunk , de 17 de setembro de 2012 , que institui o xxmaj programa de xxmaj incentivo à xxmaj inovação xxmaj tecnológica e xxmaj xxunk da xxmaj cadeia xxmaj produtiva de xxmaj veículos xxmaj automotores - xxmaj xxunk - xxmaj auto . a xxup presidenta xxup da xxup república , no uso da atribuição que lhe confere o art . 62 da xxmaj constituição , adota a seguinte xxmaj medida xxmaj provisória , com força de lei : xxmaj art . 1º a xxmaj lei nº xxunk , de 17 de setembro de 2012 , passa a vigorar com as seguintes alterações : xxmaj art . 40 . xxrep 143 . xxrep 143 . § xxunk xxmaj para a realização das atividades previstas nos incisos xxup ii e xxup iii do § 5º , serão considerados realizados no xxmaj país os dispêndios com a importação , para utilização em laboratórios , de : i - xxunk sem similares nacionais ; e xxup ii - equipamentos e suas peças de reposição , sem similares nacionais . § xxunk xxmaj as peças de reposição referidas no § xxunk são aquelas adquiridas juntamente com o equipamento , cujo valor seja igual ou inferior a dez por cento do valor do equipamento . § xxunk a verificação da xxunk de que trata o § xxunk será realizada nos termos estabelecidos em ato do xxmaj poder xxmaj executivo . xxrep 133 . \" ( xxup nr ) \" xxmaj art . xxup xxunk xxmaj com vistas à promoção do desenvolvimento sustentável da indústria , os fornecedores de insumos estratégicos e de xxunk para as empresas habilitadas ao xxmaj xxunk - xxmaj auto e seus fornecedores diretos ficam obrigados a informar aos xxunk , nas operações de venda , os valores e as demais características dos produtos fornecidos , nos termos , limites e condições definidos pelo xxmaj ministério do xxmaj desenvolvimento , xxmaj indústria e xxmaj comércio xxmaj exterior . § 1º o desenvolvimento sustentável da indústria referido no caput refere - se ao aumento do padrão tecnológico dos veículos , especialmente , quanto à segurança veicular e a xxunk xxunk . § 2º a omissão na prestação das informações de que trata o caput ensejará a aplicação de multa no valor de dois por cento sobre o valor das operações de venda referidas no caput . § 3º a prestação de informações xxunk no cumprimento da obrigação a que se refere o caput ensejará a aplicação de multa de um por cento sobre a diferença entre o valor informado e o valor devido . \n",
       " § 4º xxmaj regulamento poderá dispor sobre os procedimentos para correção das informações xxunk de que trata o § 3º. § 5º o disposto nos § § 2º e 3º será aplicado nas operações de venda realizadas a partir do xxunk mês subsequente à definição dos termos , limites e condições referidos no caput . \" ( xxup nr ) \" xxmaj art . 42 . xxrep 118 . i - o descumprimento dos requisitos estabelecidos por esta xxmaj lei ou pelos atos complementares do xxmaj poder xxmaj executivo , exceto quanto : a ) ao compromisso de que trata o inciso xxup ii do § 4º do art . 40 ; e b ) à utilização de valor a maior de crédito presumido por empresa habilitada ao xxmaj xxunk - xxmaj auto em razão de incorreções nas informações de que trata o art . xxup xxunk ; xxrep 143 . § 4º xxmaj na hipótese da alínea \" b \" do inciso i do caput , a empresa habilitada deverá : i - promover o estorno da parcela do crédito presumido xxunk a maior , nos termos dispostos em ato do xxmaj poder xxmaj executivo ; ou xxup ii - no caso de insuficiência do saldo credor de crédito presumido , recolher o valor xxunk a maior , acrescido de juros equivalentes à taxa do xxmaj sistema xxmaj especial de xxmaj liquidação e xxmaj custódia - xxup selic para títulos federais , acumulada mensalmente , calculados a partir do mês da apuração do crédito presumido até o mês anterior ao do pagamento e xxunk de um por cento relativamente ao mês em que o pagamento estiver sendo feito . § 5º a omissão na prestação das informações de que trata o art . xxup xxunk impede a apuração e a utilização do crédito presumido pela empresa habilitada , relativamente à operação de venda a que se referir a omissão . § 6º a inobservância do disposto no § 4º , decorridos sessenta dias após a notificação , acarretará o cancelamento da habilitação ao xxmaj xxunk - xxmaj auto , deixando - se de aplicar a exceção prevista na alínea \" b \" do inciso i do caput . \" ( xxup nr ) \" xxmaj art . 43 . xxrep 143 . xxrep 143 . § 3º xxmaj os valores de que tratam os incisos xxup ii , xxup iii , xxup iv e v do caput deverão ser depositados no xxmaj fundo xxmaj nacional de xxmaj desenvolvimento xxmaj científico e xxmaj tecnológico - xxup xxunk , em conta específica . \" ( xxup nr ) xxmaj art . 2º xxmaj esta xxmaj medida xxmaj provisória entra em vigor na data de sua publicação . xxmaj brasília , 17 de janeiro de 2014 ; 193º da xxmaj independência e 126º da xxmaj república . xxup dilma xxup rousseff xxmaj dyogo xxmaj henrique de xxmaj oliveira xxmaj fernando xxmaj xxunk xxmaj pimentel \",xxbos xxup projeto xxup de xxup resolução n , xxup de 2013 ( xxmaj do xxmaj sr . xxmaj nelson xxmaj marquezelli ) xxmaj denomina “ xxmaj sala xxmaj deputado xxmaj fernando xxmaj xxunk ” a xxmaj sala da xxmaj procuradoria xxmaj parlamentar da xxmaj câmara dos xxmaj deputados . a xxmaj câmara dos xxmaj deputados resolve : xxmaj art . 1o xxmaj fica a xxmaj sala da xxmaj procuradoria xxmaj parlamentar da xxmaj câmara dos xxmaj deputados denominada “ xxmaj sala xxmaj deputado xxmaj fernando xxmaj xxunk ” . xxmaj art . 2o xxmaj esta resolução entra em vigor da data de sua publicação . o xxmaj ex - xxmaj deputado e xxmaj ministro da xxmaj justiça xxmaj fernando xxmaj xxunk , um dos xxunk da xxmaj câmara dos xxmaj deputados , foi um dos grandes xxunk no processo de democratização do país e xxunk , com xxunk , o cargo de xxmaj procurador xxmaj parlamentar , durante o biênio 1997 / 1998 . xxmaj foi xxmaj deputado xxmaj federal de 1971 a 1999 e xxmaj ministro da xxmaj justiça de 1985 a 1986 . a xxunk homenagem visa xxunk em nossa xxmaj casa legislativa , em especial , na sala da xxmaj procuradoria xxmaj parlamentar , localizada no xxmaj edifício xxmaj principal , xxmaj xxunk d , xxmaj sala 05 , da xxmaj câmara dos xxmaj deputados , um dos mais importantes parlamentares brasileiros . xxmaj sala das xxmaj sessões , em de de 2013 . xxmaj deputado xxup nelson xxup marquezelli xxup xxunk xxup sp,xxbos,xxbos xxup proposta xxup de xxup emenda à xxup constituição xxmaj nº ( xxmaj do xxmaj sr . xxmaj eliseu xxmaj xxunk e outros ) , xxup de 2004 xxmaj acrescenta inciso ao art . 15 da xxmaj constituição xxmaj federal , xxunk a perda ou suspensão de direitos políticos na hipótese de mudança de xxunk eleitoral . xxmaj as xxmaj mesas da xxmaj câmara dos xxmaj deputados e do xxmaj senado xxmaj federal , nos termos do § 3º do art . 60 da xxmaj constituição xxmaj federal , promulgam a seguinte emenda ao texto constitucional : xxmaj art . 1º o art . 15 da xxmaj constituição xxmaj federal passa a vigorar acrescido com o seguinte inciso xxup vi : xxmaj art . 15 . é vedada a cassação de direitos políticos , cuja perda ou suspensão só se dará nos casos de : xxrep 79 . xxup vi – mudança de xxunk ou inscrição eleitoral para outro município , por titular de mandato eletivo , em relação à unidade política administrativa de origem . ( xxup nr ) ” xxmaj art . 2º xxmaj esta xxmaj emenda xxmaj constitucional entra em vigor na data de sua publicação . \n",
       " xxup xxunk xxmaj proposta de xxmaj emenda à xxmaj constituição que ora submetemos à reflexão dos ilustres xxmaj pares visa a imprimir maior xxunk e probidade ao processo eleitoral . a renúncia de cidadania em relação à unidade de origem , por parte daqueles que xxunk a mudança , com o flagrante objetivo de se xxunk no novo domicílio eleitoral , deve xxunk , por questão de ética , na perda dos direitos políticos , e do mandato em razão deles exercido , na origem . xxmaj não há cobertura lógica e de princípios para o exercício de xxunk cidadania , como , por exemplo , o xxmaj prefeito que xxunk o domicílio eleitoral para xxunk - se em município diverso e continua no exercício do mandato de xxmaj prefeito do município de origem . xxmaj pelas razões precedentes e certos da importância da medida , xxunk a sua aprovação . xxmaj sala das xxmaj sessões , em de . xxmaj deputado xxup eliseu xxup xxunk de 2004\n",
       "y: LMLabelList\n",
       ",,,,\n",
       "Path: .;\n",
       "\n",
       "Test: None"
      ]
     },
     "execution_count": 36,
     "metadata": {},
     "output_type": "execute_result"
    }
   ],
   "source": [
    "data_lm = (TextList.from_df(pd.concat([df_lm]), cols=\"full_text\")\n",
    "              .split_by_rand_pct(0.2)\n",
    "              .label_for_lm()\n",
    "              .databunch(bs=bs, num_workers=8))\n",
    "#               .add_test(TextList.from_df(df_test, cols=['text'])) \n",
    "# data_lm\n",
    "len(data_lm.vocab.itos),len(data_lm.train_ds)\n",
    "data_lm"
   ]
  },
  {
   "cell_type": "code",
   "execution_count": 20,
   "metadata": {
    "ExecuteTime": {
     "end_time": "2020-06-10T14:17:28.190253Z",
     "start_time": "2020-06-10T14:17:28.168945Z"
    }
   },
   "outputs": [],
   "source": [
    "data_class = None"
   ]
  },
  {
   "cell_type": "code",
   "execution_count": 38,
   "metadata": {
    "ExecuteTime": {
     "end_time": "2020-06-10T14:25:20.969514Z",
     "start_time": "2020-06-10T14:25:20.943742Z"
    }
   },
   "outputs": [],
   "source": [
    "wiki_weights_fns = ['/home/semarm/embeddings-leis/POC/export_POC/models/wiki_model_10epochs.pth' \"/home/semarm/embeddings-leis/POC/export_POC/models/wiki_vocab_10epochs\"]"
   ]
  },
  {
   "cell_type": "code",
   "execution_count": 47,
   "metadata": {
    "ExecuteTime": {
     "end_time": "2020-06-10T14:29:28.046543Z",
     "start_time": "2020-06-10T14:29:27.628254Z"
    }
   },
   "outputs": [],
   "source": [
    "perplexity = Perplexity()\n",
    "learn_lm = language_model_learner(data_lm, AWD_LSTM, drop_mult=0.3, \n",
    "                               metrics=[accuracy, perplexity]).to_fp16()"
   ]
  },
  {
   "cell_type": "code",
   "execution_count": null,
   "metadata": {
    "ExecuteTime": {
     "end_time": "2020-06-10T14:29:28.094663Z",
     "start_time": "2020-06-10T14:31:26.700Z"
    }
   },
   "outputs": [],
   "source": [
    "learn_lm.lr_find()\n",
    "learn_lm.recorder.plot(suggestion=True)"
   ]
  },
  {
   "cell_type": "code",
   "execution_count": 48,
   "metadata": {
    "ExecuteTime": {
     "end_time": "2020-06-10T14:29:48.364256Z",
     "start_time": "2020-06-10T14:29:28.347362Z"
    }
   },
   "outputs": [
    {
     "data": {
      "text/html": [
       "<table border=\"1\" class=\"dataframe\">\n",
       "  <thead>\n",
       "    <tr style=\"text-align: left;\">\n",
       "      <th>epoch</th>\n",
       "      <th>train_loss</th>\n",
       "      <th>valid_loss</th>\n",
       "      <th>accuracy</th>\n",
       "      <th>perplexity</th>\n",
       "      <th>time</th>\n",
       "    </tr>\n",
       "  </thead>\n",
       "  <tbody>\n",
       "    <tr>\n",
       "      <td>0</td>\n",
       "      <td>3.726502</td>\n",
       "      <td>4.277042</td>\n",
       "      <td>0.304035</td>\n",
       "      <td>72.027061</td>\n",
       "      <td>00:06</td>\n",
       "    </tr>\n",
       "    <tr>\n",
       "      <td>1</td>\n",
       "      <td>3.199246</td>\n",
       "      <td>3.926306</td>\n",
       "      <td>0.330271</td>\n",
       "      <td>50.719284</td>\n",
       "      <td>00:06</td>\n",
       "    </tr>\n",
       "    <tr>\n",
       "      <td>2</td>\n",
       "      <td>2.651346</td>\n",
       "      <td>3.631893</td>\n",
       "      <td>0.361843</td>\n",
       "      <td>37.784279</td>\n",
       "      <td>00:06</td>\n",
       "    </tr>\n",
       "  </tbody>\n",
       "</table>"
      ],
      "text/plain": [
       "<IPython.core.display.HTML object>"
      ]
     },
     "metadata": {},
     "output_type": "display_data"
    }
   ],
   "source": [
    "lr = 1e-1\n",
    "learn_lm.freeze()\n",
    "learn_lm.fit_one_cycle(3, max_lr=lr,  moms=(0.8,0.7))"
   ]
  },
  {
   "cell_type": "code",
   "execution_count": 49,
   "metadata": {
    "ExecuteTime": {
     "end_time": "2020-06-10T14:29:58.763397Z",
     "start_time": "2020-06-10T14:29:51.789484Z"
    }
   },
   "outputs": [
    {
     "data": {
      "text/html": [
       "<table border=\"1\" class=\"dataframe\">\n",
       "  <thead>\n",
       "    <tr style=\"text-align: left;\">\n",
       "      <th>epoch</th>\n",
       "      <th>train_loss</th>\n",
       "      <th>valid_loss</th>\n",
       "      <th>accuracy</th>\n",
       "      <th>perplexity</th>\n",
       "      <th>time</th>\n",
       "    </tr>\n",
       "  </thead>\n",
       "  <tbody>\n",
       "    <tr>\n",
       "      <td>0</td>\n",
       "      <td>2.815067</td>\n",
       "      <td>3.508676</td>\n",
       "      <td>0.378305</td>\n",
       "      <td>33.403999</td>\n",
       "      <td>00:06</td>\n",
       "    </tr>\n",
       "  </tbody>\n",
       "</table>"
      ],
      "text/plain": [
       "<IPython.core.display.HTML object>"
      ]
     },
     "metadata": {},
     "output_type": "display_data"
    }
   ],
   "source": [
    "learn_lm.freeze_to(-2)\n",
    "learn_lm.fit_one_cycle(1, max_lr=lr/2, moms=(0.8, 0.7))"
   ]
  },
  {
   "cell_type": "code",
   "execution_count": 50,
   "metadata": {
    "ExecuteTime": {
     "end_time": "2020-06-10T14:30:10.475797Z",
     "start_time": "2020-06-10T14:30:02.186410Z"
    }
   },
   "outputs": [
    {
     "data": {
      "text/html": [
       "<table border=\"1\" class=\"dataframe\">\n",
       "  <thead>\n",
       "    <tr style=\"text-align: left;\">\n",
       "      <th>epoch</th>\n",
       "      <th>train_loss</th>\n",
       "      <th>valid_loss</th>\n",
       "      <th>accuracy</th>\n",
       "      <th>perplexity</th>\n",
       "      <th>time</th>\n",
       "    </tr>\n",
       "  </thead>\n",
       "  <tbody>\n",
       "    <tr>\n",
       "      <td>0</td>\n",
       "      <td>2.315405</td>\n",
       "      <td>3.367666</td>\n",
       "      <td>0.398489</td>\n",
       "      <td>29.010736</td>\n",
       "      <td>00:08</td>\n",
       "    </tr>\n",
       "  </tbody>\n",
       "</table>"
      ],
      "text/plain": [
       "<IPython.core.display.HTML object>"
      ]
     },
     "metadata": {},
     "output_type": "display_data"
    }
   ],
   "source": [
    "learn_lm.unfreeze()\n",
    "learn_lm.fit_one_cycle(1, max_lr=lr/2.6**4, moms=(0.8, 0.7))"
   ]
  },
  {
   "cell_type": "code",
   "execution_count": 44,
   "metadata": {
    "ExecuteTime": {
     "end_time": "2020-06-10T14:28:51.638606Z",
     "start_time": "2020-06-10T14:28:10.867946Z"
    }
   },
   "outputs": [
    {
     "data": {
      "text/html": [
       "<table border=\"1\" class=\"dataframe\">\n",
       "  <thead>\n",
       "    <tr style=\"text-align: left;\">\n",
       "      <th>epoch</th>\n",
       "      <th>train_loss</th>\n",
       "      <th>valid_loss</th>\n",
       "      <th>accuracy</th>\n",
       "      <th>perplexity</th>\n",
       "      <th>time</th>\n",
       "    </tr>\n",
       "  </thead>\n",
       "  <tbody>\n",
       "    <tr>\n",
       "      <td>0</td>\n",
       "      <td>2.040896</td>\n",
       "      <td>3.422295</td>\n",
       "      <td>0.394913</td>\n",
       "      <td>30.639627</td>\n",
       "      <td>00:08</td>\n",
       "    </tr>\n",
       "    <tr>\n",
       "      <td>1</td>\n",
       "      <td>1.949323</td>\n",
       "      <td>3.390236</td>\n",
       "      <td>0.401721</td>\n",
       "      <td>29.672943</td>\n",
       "      <td>00:08</td>\n",
       "    </tr>\n",
       "    <tr>\n",
       "      <td>2</td>\n",
       "      <td>1.830673</td>\n",
       "      <td>3.375640</td>\n",
       "      <td>0.404185</td>\n",
       "      <td>29.242992</td>\n",
       "      <td>00:08</td>\n",
       "    </tr>\n",
       "    <tr>\n",
       "      <td>3</td>\n",
       "      <td>1.651338</td>\n",
       "      <td>3.428739</td>\n",
       "      <td>0.404065</td>\n",
       "      <td>30.837742</td>\n",
       "      <td>00:08</td>\n",
       "    </tr>\n",
       "    <tr>\n",
       "      <td>4</td>\n",
       "      <td>1.525630</td>\n",
       "      <td>3.458613</td>\n",
       "      <td>0.404310</td>\n",
       "      <td>31.772875</td>\n",
       "      <td>00:08</td>\n",
       "    </tr>\n",
       "  </tbody>\n",
       "</table>"
      ],
      "text/plain": [
       "<IPython.core.display.HTML object>"
      ]
     },
     "metadata": {},
     "output_type": "display_data"
    }
   ],
   "source": [
    "learn_lm.fit_one_cycle(5, max_lr=slice(5e-3/(2.6**4), 5e-3), moms=(0.8, 0.7))"
   ]
  },
  {
   "cell_type": "code",
   "execution_count": 51,
   "metadata": {
    "ExecuteTime": {
     "end_time": "2020-06-10T14:30:34.910261Z",
     "start_time": "2020-06-10T14:30:26.626360Z"
    }
   },
   "outputs": [
    {
     "data": {
      "text/html": [
       "<table border=\"1\" class=\"dataframe\">\n",
       "  <thead>\n",
       "    <tr style=\"text-align: left;\">\n",
       "      <th>epoch</th>\n",
       "      <th>train_loss</th>\n",
       "      <th>valid_loss</th>\n",
       "      <th>accuracy</th>\n",
       "      <th>perplexity</th>\n",
       "      <th>time</th>\n",
       "    </tr>\n",
       "  </thead>\n",
       "  <tbody>\n",
       "    <tr>\n",
       "      <td>0</td>\n",
       "      <td>2.060624</td>\n",
       "      <td>3.347060</td>\n",
       "      <td>0.407048</td>\n",
       "      <td>28.419064</td>\n",
       "      <td>00:08</td>\n",
       "    </tr>\n",
       "  </tbody>\n",
       "</table>"
      ],
      "text/plain": [
       "<IPython.core.display.HTML object>"
      ]
     },
     "metadata": {},
     "output_type": "display_data"
    }
   ],
   "source": [
    "learn_lm.fit_one_cycle(1, max_lr=lr/2.6**4, moms=(0.8, 0.7))"
   ]
  },
  {
   "cell_type": "code",
   "execution_count": 355,
   "metadata": {
    "ExecuteTime": {
     "end_time": "2020-06-10T20:02:38.582342Z",
     "start_time": "2020-06-10T20:02:38.517684Z"
    }
   },
   "outputs": [],
   "source": [
    "learn_lm.save_encoder('/home/semarm/embeddings-leis/models/language_model_enc')"
   ]
  },
  {
   "cell_type": "code",
   "execution_count": 209,
   "metadata": {
    "ExecuteTime": {
     "end_time": "2020-06-10T16:09:41.812877Z",
     "start_time": "2020-06-10T16:09:41.614907Z"
    }
   },
   "outputs": [
    {
     "data": {
      "text/html": [
       "<div>\n",
       "<style scoped>\n",
       "    .dataframe tbody tr th:only-of-type {\n",
       "        vertical-align: middle;\n",
       "    }\n",
       "\n",
       "    .dataframe tbody tr th {\n",
       "        vertical-align: top;\n",
       "    }\n",
       "\n",
       "    .dataframe thead th {\n",
       "        text-align: right;\n",
       "    }\n",
       "</style>\n",
       "<table border=\"1\" class=\"dataframe\">\n",
       "  <thead>\n",
       "    <tr style=\"text-align: right;\">\n",
       "      <th></th>\n",
       "      <th>uriProposicao</th>\n",
       "      <th>siglaTipo</th>\n",
       "      <th>numero</th>\n",
       "      <th>ano</th>\n",
       "      <th>codTema</th>\n",
       "      <th>tema</th>\n",
       "      <th>relevancia</th>\n",
       "      <th>id</th>\n",
       "    </tr>\n",
       "  </thead>\n",
       "  <tbody>\n",
       "    <tr>\n",
       "      <td>0</td>\n",
       "      <td>https://dadosabertos.camara.leg.br/api/v2/prop...</td>\n",
       "      <td>MPV</td>\n",
       "      <td>921.0</td>\n",
       "      <td>2020.0</td>\n",
       "      <td>70</td>\n",
       "      <td>Finanças Públicas e Orçamento</td>\n",
       "      <td>0</td>\n",
       "      <td>921MPV</td>\n",
       "    </tr>\n",
       "    <tr>\n",
       "      <td>1</td>\n",
       "      <td>https://dadosabertos.camara.leg.br/api/v2/prop...</td>\n",
       "      <td>MPV</td>\n",
       "      <td>921.0</td>\n",
       "      <td>2020.0</td>\n",
       "      <td>56</td>\n",
       "      <td>Saúde</td>\n",
       "      <td>0</td>\n",
       "      <td>921MPV</td>\n",
       "    </tr>\n",
       "    <tr>\n",
       "      <td>2</td>\n",
       "      <td>https://dadosabertos.camara.leg.br/api/v2/prop...</td>\n",
       "      <td>PL</td>\n",
       "      <td>1600.0</td>\n",
       "      <td>2020.0</td>\n",
       "      <td>44</td>\n",
       "      <td>Direitos Humanos e Minorias</td>\n",
       "      <td>0</td>\n",
       "      <td>1600PL</td>\n",
       "    </tr>\n",
       "    <tr>\n",
       "      <td>3</td>\n",
       "      <td>https://dadosabertos.camara.leg.br/api/v2/prop...</td>\n",
       "      <td>PL</td>\n",
       "      <td>1600.0</td>\n",
       "      <td>2020.0</td>\n",
       "      <td>66</td>\n",
       "      <td>Indústria, Comércio e Serviços</td>\n",
       "      <td>0</td>\n",
       "      <td>1600PL</td>\n",
       "    </tr>\n",
       "    <tr>\n",
       "      <td>4</td>\n",
       "      <td>https://dadosabertos.camara.leg.br/api/v2/prop...</td>\n",
       "      <td>PL</td>\n",
       "      <td>1600.0</td>\n",
       "      <td>2020.0</td>\n",
       "      <td>56</td>\n",
       "      <td>Saúde</td>\n",
       "      <td>0</td>\n",
       "      <td>1600PL</td>\n",
       "    </tr>\n",
       "  </tbody>\n",
       "</table>\n",
       "</div>"
      ],
      "text/plain": [
       "                                       uriProposicao siglaTipo  numero  \\\n",
       "0  https://dadosabertos.camara.leg.br/api/v2/prop...       MPV   921.0   \n",
       "1  https://dadosabertos.camara.leg.br/api/v2/prop...       MPV   921.0   \n",
       "2  https://dadosabertos.camara.leg.br/api/v2/prop...        PL  1600.0   \n",
       "3  https://dadosabertos.camara.leg.br/api/v2/prop...        PL  1600.0   \n",
       "4  https://dadosabertos.camara.leg.br/api/v2/prop...        PL  1600.0   \n",
       "\n",
       "      ano  codTema                            tema  relevancia      id  \n",
       "0  2020.0       70   Finanças Públicas e Orçamento           0  921MPV  \n",
       "1  2020.0       56                           Saúde           0  921MPV  \n",
       "2  2020.0       44     Direitos Humanos e Minorias           0  1600PL  \n",
       "3  2020.0       66  Indústria, Comércio e Serviços           0  1600PL  \n",
       "4  2020.0       56                           Saúde           0  1600PL  "
      ]
     },
     "execution_count": 209,
     "metadata": {},
     "output_type": "execute_result"
    }
   ],
   "source": [
    "df_clas = pd.read_csv(\"data/proposicoesTemas.csv\", sep=';')\n",
    "df_clas = df_clas.dropna(subset=['numero'])\n",
    "df_clas['id'] = df_clas['numero'].astype(int, errors='ignore').map(str) + df_clas['siglaTipo']\n",
    "df_clas.head()"
   ]
  },
  {
   "cell_type": "code",
   "execution_count": 333,
   "metadata": {
    "ExecuteTime": {
     "end_time": "2020-06-10T19:35:54.613948Z",
     "start_time": "2020-06-10T19:35:54.558225Z"
    }
   },
   "outputs": [
    {
     "name": "stdout",
     "output_type": "stream",
     "text": [
      "(6082, 15)\n"
     ]
    }
   ],
   "source": [
    "df = pd.merge(df_lm, df_clas, on=['id'] )\n",
    "print(df.shape)"
   ]
  },
  {
   "cell_type": "code",
   "execution_count": 334,
   "metadata": {
    "ExecuteTime": {
     "end_time": "2020-06-10T19:35:54.824216Z",
     "start_time": "2020-06-10T19:35:54.800155Z"
    },
    "scrolled": true
   },
   "outputs": [],
   "source": [
    "df = df.drop(columns=['ano', 'uriProposicao'])"
   ]
  },
  {
   "cell_type": "code",
   "execution_count": 335,
   "metadata": {
    "ExecuteTime": {
     "end_time": "2020-06-10T19:35:55.147038Z",
     "start_time": "2020-06-10T19:35:55.119877Z"
    }
   },
   "outputs": [
    {
     "data": {
      "text/html": [
       "<div>\n",
       "<style scoped>\n",
       "    .dataframe tbody tr th:only-of-type {\n",
       "        vertical-align: middle;\n",
       "    }\n",
       "\n",
       "    .dataframe tbody tr th {\n",
       "        vertical-align: top;\n",
       "    }\n",
       "\n",
       "    .dataframe thead th {\n",
       "        text-align: right;\n",
       "    }\n",
       "</style>\n",
       "<table border=\"1\" class=\"dataframe\">\n",
       "  <thead>\n",
       "    <tr style=\"text-align: right;\">\n",
       "      <th></th>\n",
       "      <th>arquivo</th>\n",
       "      <th>id</th>\n",
       "      <th>numero_x</th>\n",
       "      <th>tipo</th>\n",
       "      <th>texto_anterior</th>\n",
       "      <th>justificativa</th>\n",
       "      <th>full_text</th>\n",
       "      <th>siglaTipo_x</th>\n",
       "      <th>siglaTipo_y</th>\n",
       "      <th>numero_y</th>\n",
       "      <th>codTema</th>\n",
       "      <th>tema</th>\n",
       "      <th>relevancia</th>\n",
       "    </tr>\n",
       "  </thead>\n",
       "  <tbody>\n",
       "    <tr>\n",
       "      <td>6077</td>\n",
       "      <td>308880_2441_PL.pdf</td>\n",
       "      <td>2441PL</td>\n",
       "      <td>2441</td>\n",
       "      <td>PL</td>\n",
       "      <td>PROJETO DE LEI  Dá nova redação aos arts. 20 e...</td>\n",
       "      <td></td>\n",
       "      <td>PROJETO DE LEI  Dá nova redação aos arts. 20 e...</td>\n",
       "      <td>PL</td>\n",
       "      <td>PL</td>\n",
       "      <td>2441.0</td>\n",
       "      <td>51</td>\n",
       "      <td>Estrutura Fundiária</td>\n",
       "      <td>0</td>\n",
       "    </tr>\n",
       "    <tr>\n",
       "      <td>6078</td>\n",
       "      <td>308880_2441_PL.pdf</td>\n",
       "      <td>2441PL</td>\n",
       "      <td>2441</td>\n",
       "      <td>PL</td>\n",
       "      <td>PROJETO DE LEI  Dá nova redação aos arts. 20 e...</td>\n",
       "      <td></td>\n",
       "      <td>PROJETO DE LEI  Dá nova redação aos arts. 20 e...</td>\n",
       "      <td>PL</td>\n",
       "      <td>PL</td>\n",
       "      <td>2441.0</td>\n",
       "      <td>34</td>\n",
       "      <td>Administração Pública</td>\n",
       "      <td>0</td>\n",
       "    </tr>\n",
       "    <tr>\n",
       "      <td>6079</td>\n",
       "      <td>605355_638_MPV.pdf</td>\n",
       "      <td>638MPV</td>\n",
       "      <td>638</td>\n",
       "      <td>MPV</td>\n",
       "      <td>MEDIDA PROVISÓRIA Nº 638, DE 17 DE JANEIRO DE ...</td>\n",
       "      <td></td>\n",
       "      <td>MEDIDA PROVISÓRIA Nº 638, DE 17 DE JANEIRO DE ...</td>\n",
       "      <td>MPV</td>\n",
       "      <td>MPV</td>\n",
       "      <td>638.0</td>\n",
       "      <td>66</td>\n",
       "      <td>Indústria, Comércio e Serviços</td>\n",
       "      <td>0</td>\n",
       "    </tr>\n",
       "    <tr>\n",
       "      <td>6080</td>\n",
       "      <td>2168837_301_PRC.pdf</td>\n",
       "      <td>301PRC</td>\n",
       "      <td>301</td>\n",
       "      <td>PRC</td>\n",
       "      <td>PROJETO DE RESOLUÇÃO Nº  , DE 2018  (Do Sr. ED...</td>\n",
       "      <td>Na rotina de trabalhos do Poder Legislativo Fe...</td>\n",
       "      <td>PROJETO DE RESOLUÇÃO Nº  , DE 2018  (Do Sr. ED...</td>\n",
       "      <td>PRC</td>\n",
       "      <td>PRC</td>\n",
       "      <td>301.0</td>\n",
       "      <td>53</td>\n",
       "      <td>Processo Legislativo e Atuação Parlamentar</td>\n",
       "      <td>0</td>\n",
       "    </tr>\n",
       "    <tr>\n",
       "      <td>6081</td>\n",
       "      <td>2168837_301_PRC.pdf</td>\n",
       "      <td>301PRC</td>\n",
       "      <td>301</td>\n",
       "      <td>PRC</td>\n",
       "      <td>PROJETO DE RESOLUÇÃO Nº  , DE 2018  (Do Sr. ED...</td>\n",
       "      <td>Na rotina de trabalhos do Poder Legislativo Fe...</td>\n",
       "      <td>PROJETO DE RESOLUÇÃO Nº  , DE 2018  (Do Sr. ED...</td>\n",
       "      <td>PRC</td>\n",
       "      <td>PRC</td>\n",
       "      <td>301.0</td>\n",
       "      <td>44</td>\n",
       "      <td>Direitos Humanos e Minorias</td>\n",
       "      <td>0</td>\n",
       "    </tr>\n",
       "  </tbody>\n",
       "</table>\n",
       "</div>"
      ],
      "text/plain": [
       "                  arquivo      id  numero_x tipo  \\\n",
       "6077   308880_2441_PL.pdf  2441PL      2441   PL   \n",
       "6078   308880_2441_PL.pdf  2441PL      2441   PL   \n",
       "6079   605355_638_MPV.pdf  638MPV       638  MPV   \n",
       "6080  2168837_301_PRC.pdf  301PRC       301  PRC   \n",
       "6081  2168837_301_PRC.pdf  301PRC       301  PRC   \n",
       "\n",
       "                                         texto_anterior  \\\n",
       "6077  PROJETO DE LEI  Dá nova redação aos arts. 20 e...   \n",
       "6078  PROJETO DE LEI  Dá nova redação aos arts. 20 e...   \n",
       "6079  MEDIDA PROVISÓRIA Nº 638, DE 17 DE JANEIRO DE ...   \n",
       "6080  PROJETO DE RESOLUÇÃO Nº  , DE 2018  (Do Sr. ED...   \n",
       "6081  PROJETO DE RESOLUÇÃO Nº  , DE 2018  (Do Sr. ED...   \n",
       "\n",
       "                                          justificativa  \\\n",
       "6077                                                      \n",
       "6078                                                      \n",
       "6079                                                      \n",
       "6080  Na rotina de trabalhos do Poder Legislativo Fe...   \n",
       "6081  Na rotina de trabalhos do Poder Legislativo Fe...   \n",
       "\n",
       "                                              full_text siglaTipo_x  \\\n",
       "6077  PROJETO DE LEI  Dá nova redação aos arts. 20 e...          PL   \n",
       "6078  PROJETO DE LEI  Dá nova redação aos arts. 20 e...          PL   \n",
       "6079  MEDIDA PROVISÓRIA Nº 638, DE 17 DE JANEIRO DE ...         MPV   \n",
       "6080  PROJETO DE RESOLUÇÃO Nº  , DE 2018  (Do Sr. ED...         PRC   \n",
       "6081  PROJETO DE RESOLUÇÃO Nº  , DE 2018  (Do Sr. ED...         PRC   \n",
       "\n",
       "     siglaTipo_y  numero_y  codTema  \\\n",
       "6077          PL    2441.0       51   \n",
       "6078          PL    2441.0       34   \n",
       "6079         MPV     638.0       66   \n",
       "6080         PRC     301.0       53   \n",
       "6081         PRC     301.0       44   \n",
       "\n",
       "                                            tema  relevancia  \n",
       "6077                         Estrutura Fundiária           0  \n",
       "6078                       Administração Pública           0  \n",
       "6079              Indústria, Comércio e Serviços           0  \n",
       "6080  Processo Legislativo e Atuação Parlamentar           0  \n",
       "6081                 Direitos Humanos e Minorias           0  "
      ]
     },
     "execution_count": 335,
     "metadata": {},
     "output_type": "execute_result"
    }
   ],
   "source": [
    "df.tail()"
   ]
  },
  {
   "cell_type": "code",
   "execution_count": 336,
   "metadata": {
    "ExecuteTime": {
     "end_time": "2020-06-10T19:35:55.458512Z",
     "start_time": "2020-06-10T19:35:55.431546Z"
    }
   },
   "outputs": [
    {
     "data": {
      "text/plain": [
       "(2039, 14)"
      ]
     },
     "execution_count": 336,
     "metadata": {},
     "output_type": "execute_result"
    }
   ],
   "source": [
    "df['id_tema'] = df['id'] + df['codTema'].map(str)\n",
    "df = df.drop_duplicates(subset='id_tema')\n",
    "df.shape"
   ]
  },
  {
   "cell_type": "code",
   "execution_count": 344,
   "metadata": {
    "ExecuteTime": {
     "end_time": "2020-06-10T19:47:22.519196Z",
     "start_time": "2020-06-10T19:47:21.744203Z"
    },
    "scrolled": false
   },
   "outputs": [],
   "source": [
    "df_final = df.copy()\n",
    "df_final['target'] = ''\n",
    "for idx in df_final['id'].unique():\n",
    "#     print(idx)\n",
    "    aux = df_final[df_final['id'] == idx]\n",
    "#     print(aux)\n",
    "    df_final.loc[df_final['id'] == idx, 'target'] = ' '.join(str(x) for x in aux['codTema'].unique())\n",
    "#     print(aux)\n",
    "# #     themes = []\n",
    "#     for i, line in aux.iterrows():\n",
    "# #         print(line)\n",
    "#         themes.append(line['codTema'])\n",
    "# #     print(themes)\n",
    "# #     print(aux)\n",
    "# #     aux.iloc[0, -1] = [themes]\n",
    "#     print(pd.Series([themes] * len(aux)))\n",
    "#     print(aux)\n",
    "#     print(aux)\n",
    "#     break\n",
    "#     if df_final is None:\n",
    "#         df_final = aux\n",
    "#     else:\n",
    "#         df_final = pd.concat([df_final, aux])\n",
    "# #     break\n",
    "\n",
    "df_final = df_final.drop(['codTema', 'tema', 'id_tema'], axis=1)"
   ]
  },
  {
   "cell_type": "code",
   "execution_count": 347,
   "metadata": {
    "ExecuteTime": {
     "end_time": "2020-06-10T19:47:53.904870Z",
     "start_time": "2020-06-10T19:47:53.853900Z"
    }
   },
   "outputs": [],
   "source": [
    "df_final = df_final.drop_duplicates()"
   ]
  },
  {
   "cell_type": "code",
   "execution_count": 353,
   "metadata": {
    "ExecuteTime": {
     "end_time": "2020-06-10T20:00:18.066142Z",
     "start_time": "2020-06-10T20:00:14.563999Z"
    }
   },
   "outputs": [
    {
     "data": {
      "text/html": [],
      "text/plain": [
       "<IPython.core.display.HTML object>"
      ]
     },
     "metadata": {},
     "output_type": "display_data"
    },
    {
     "data": {
      "text/html": [],
      "text/plain": [
       "<IPython.core.display.HTML object>"
      ]
     },
     "metadata": {},
     "output_type": "display_data"
    },
    {
     "data": {
      "text/plain": [
       "TextClasDataBunch;\n",
       "\n",
       "Train: LabelList (346 items)\n",
       "x: TextList\n",
       "xxbos xxup câmara xxup dos xxup deputados xxup medida xxup provisória xxmaj n.º xxunk , xxup de 2004 xxup projeto xxup de xxup lei xxup de xxup conversão xxmaj nº 3 / 2005 xxmaj regulamenta a parte final do disposto no inciso xxup xxxiii do art . 5o da xxmaj constituição e dá outras providências . o xxmaj congresso xxmaj nacional decreta : xxmaj art . 1o xxmaj esta xxmaj lei regulamenta a parte final do disposto no inciso xxup xxxiii do art . 5o da xxmaj constituição . xxmaj art . 2 ° . o acesso aos documentos públicos de interesse particular , ou de interesse coletivo ou geral , será ressalvado exclusivamente nas hipóteses em que o sigilo seja ou xxunk imprescindível à segurança da sociedade e do xxmaj estado , nos termos do disposto na parte final do inciso xxup xxxiii do art . 5o da xxmaj constituição . xxmaj art . 3o xxmaj os documentos públicos que contenham informações cujo sigilo seja imprescindível à segurança da sociedade e do xxmaj estado poderão ser classificados no mais alto grau de sigilo , conforme regulamento . xxmaj art . 4o o xxmaj poder xxmaj executivo xxunk , no âmbito da xxmaj casa xxmaj civil da xxmaj presidência da xxmaj república , xxmaj comissão de xxmaj averiguação e xxmaj análise de xxmaj informações xxmaj sigilosas , com a finalidade de decidir sobre a aplicação da ressalva ao acesso de documentos , em conformidade com o disposto nos parágrafos do art . 6º desta xxmaj lei . xxmaj art . 5º. xxmaj os xxmaj poderes xxmaj legislativo e xxmaj judiciário , o xxmaj ministério xxmaj público da xxmaj união e o xxmaj tribunal de xxmaj contas da xxmaj união disciplinarão internamente sobre a necessidade de manutenção da proteção das informações por eles produzidas , cujo sigilo seja imprescindível à segurança da sociedade e do xxmaj estado , bem assim \n",
       " 2 a possibilidade de seu acesso quando cessar essa necessidade , observada a xxmaj lei n.º 8.159 , de 8 de janeiro de 1991 , e o disposto na presente xxmaj lei . xxmaj art . 6o o acesso aos documentos públicos classificados no mais alto grau de sigilo poderá ser xxunk pelo prazo e prorrogação previstos no § 2o do art . 23 da xxmaj lei no 8.159 , de 8 de janeiro de 1991 . § 1o xxmaj vencido o prazo ou sua prorrogação de que trata o caput , os documentos classificados no mais alto grau de sigilo tornar - se - ão de acesso público . § 2º xxmaj antes de xxunk a prorrogação do prazo de que trata o caput , a autoridade competente para a classificação do documento no mais alto grau de sigilo poderá provocar , de modo justificado , a manifestação da xxmaj comissão de xxmaj averiguação e xxmaj análise de xxmaj informações xxmaj sigilosas para que avalie se o acesso ao documento xxunk a soberania , a integridade territorial nacional ou as relações internacionais do xxmaj país , caso em que a xxmaj comissão poderá manter a permanência da ressalva ao acesso do documento pelo tempo que xxunk § 3o xxmaj qualquer pessoa que demonstre possuir efetivo interesse poderá provocar , no momento que lhe xxunk , a manifestação da xxmaj comissão de xxmaj averiguação e xxmaj análise de xxmaj informações xxmaj sigilosas para que xxunk a decisão de ressalva a acesso de documento público classificado no mais alto grau de sigilo . § 4o xxmaj na hipótese a que se refere o parágrafo anterior , a xxmaj comissão de xxmaj averiguação e xxmaj análise de xxmaj informações xxmaj sigilosas decidirá pela : i - autorização de acesso livre ou condicionado ao documento ; ou xxup ii - permanência da ressalva ao seu acesso . xxmaj art . 7º xxmaj os documentos públicos que contenham informações relacionadas à xxunk , vida privada , honra e imagem de pessoas , e que sejam ou venham a ser de livre acesso poderão ser xxunk por meio de certidão ou cópia do documento , que xxunk ou xxunk a parte sobre o qual xxunk o disposto no inciso x do art . 5º da xxmaj constituição . \n",
       " 3 xxmaj parágrafo único . xxmaj as informações sobre as quais xxunk ao disposto no inciso x do art . 5º da xxmaj constituição terão o seu acesso restrito à pessoa diretamente interessada ou , em se tratando de morto ou xxunk , ao seu cônjuge , xxunk ou descendentes , no prazo de que trata o § 3o do art . 23 da xxmaj lei no 8.159 , de 1991 . xxmaj art . 8o xxmaj esta xxmaj lei entra em vigor na data de sua publicação . xxmaj sala das xxmaj sessões , em 15 de março de 2005 xxmaj deputado xxup sérgio xxup miranda pcdob / xxup mg,xxbos xxup projeto xxup de xxup lei xxup complementar xxmaj n.º , de 2011 ( xxmaj do xxmaj sr . xxmaj otavio xxmaj leite ) xxmaj inclui art . xxup xxunk e parágrafo no art . 65 e altera a descrição da xxmaj subseção i da xxmaj seção i do xxmaj capítulo xxup iv da xxmaj lei xxmaj complementar nº 101 de 4 de maio de 2000 . o xxmaj congresso xxmaj nacional decreta : xxmaj art . 1º. a xxmaj lei xxmaj complementar n.º 101 , de 4 de maio de 2000 , passa a vigorar acrescida do artigo xxup xxunk , e § 2º do artigo 65 , xxunk o seu parágrafo único para § 1º. : “ xxmaj subseção i xxmaj da xxmaj despesa xxmaj obrigatória de xxmaj caráter xxmaj continuado e xxmaj emergencial ... xxmaj art . xxup xxunk xxmaj considera - se obrigatória de caráter emergencial a despesa xxunk de lei , medida provisória ou ato administrativo normativo que estabeleça dotações para fins de prevenção para desastres , aplicando - se as disposições relativas ao relatório previsto no § 2º. do artigo 65 da presente lei complementar . ... xxmaj art . 65 . ... ... \n",
       " § 2º. o efetivo reconhecimento legislativo para efetivação de providências ao atendimento do constante no caput deste artigo implicará na obrigatoriedade dos gastos previstos , sendo igualmente obrigatório o envio de relatório xxunk da sua execução orçamentária ao xxmaj poder xxmaj legislativo , atribuído especificamente a um gestor responsável , até 30 de novembro de cada exercício financeiro , xxunk crime de responsabilidade pelo titular do órgão a falta xxunk a não execução de gastos relativos ao relatório . ” xxmaj art . 2º. xxmaj esta lei complementar entra em vigor na data de sua publicação .,xxbos xxup proposta xxup de xxup emenda à xxup constituição xxup n. ° xxrep 9 _ , xxup de 2011 ( xxmaj do xxmaj sr . xxmaj reinaldo xxmaj azambuja ) xxmaj acrescenta o art . 98 e xxmaj parágrafo único aos xxmaj atos de xxmaj disposições xxmaj constitucionais xxmaj transitórias da xxmaj constituição xxmaj federal , que institui no “ xxmaj âmbito do xxmaj poder xxmaj executivo xxmaj federal , xxmaj fundo xxmaj nacional de xxmaj atendimento e xxmaj recuperação xxmaj urgente de xxmaj comunidades xxmaj atingidas por xxmaj catástrofes xxmaj naturais . ” xxmaj art . 1º xxmaj aos xxmaj atos das xxmaj disposições xxmaj constitucionais xxmaj transitórias da xxmaj constituição xxmaj federal acrescenta - se o art . 98 e xxmaj parágrafo xxmaj único , que passará a viger com a seguinte redação : xxmaj art . 98 . é instituído , no âmbito do xxmaj poder xxmaj executivo xxmaj federal , xxmaj fundo xxmaj nacional de xxmaj atendimento e xxmaj recuperação xxmaj urgente das xxmaj comunidades xxmaj atingidas por xxmaj catástrofes xxmaj naturais , a ser regulado por lei complementar com o objetivo de viabilizar atendimento urgente e prioritário às comunidades atingidas por catástrofes naturais . xxmaj parágrafo único . o xxmaj fundo será constituído pelos recursos financeiros e materiais previstos na lei complementar que o regulamentar , que deverá ser editada no prazo de 30 ( trinta ) dias a contar da promulgação da presente xxmaj emenda . xxmaj desnecessário afirmar que a concessão de meios materiais e financeiros para as comunidades atingidas por catástrofes naturais passa por um xxunk processo , sujeito a toda ordem de xxunk burocráticos e legislativos . xxmaj exemplos da morosidade no atendimento de tais comunidades não faltam , já que é xxunk na mídia a notícia de que existem municípios \n",
       " atingidos pelas chuvas em 2008 e até agora não receberam a necessária ajuda do xxmaj poder xxmaj central . a instituição do xxmaj fundo específico , com recursos orçamentários e xxunk ( empresas , ongs , sociedade civil organizada , etc . ) poderá , se bem gerido e xxunk com rigor , atender , de pronto , as comunidades que dele xxunk . a importância e urgência na instituição do referido xxmaj fundo , dispensa qualquer fundamentação xxunk . xxmaj sala de xxmaj sessões , em de outubro de 2011 . xxmaj reinaldo xxmaj azambuja xxmaj deputado xxmaj federal xxup psdb / xxup ms xxup proposta xxup de xxup emenda xxup constitucional xxup n. ° xxrep 9 _ , xxup de 2011 ( xxmaj do xxmaj sr . xxmaj reinaldo xxmaj azambuja ) xxmaj acrescenta o art . 98 e xxmaj parágrafo único aos xxmaj atos de xxmaj disposições xxmaj constitucionais xxmaj transitórias da xxmaj constituição xxmaj federal , que institui no “ xxmaj âmbito do xxmaj poder xxmaj executivo xxmaj federal , xxmaj fundo xxmaj nacional de xxmaj atendimento e xxmaj recuperação \n",
       " xxmaj urgente de xxmaj comunidades xxmaj atingidas por xxmaj catástrofes xxmaj naturais . ” xxup deputado xxup gab . xxup assinatura,xxbos xxup câmara xxup dos xxup deputados xxup projeto xxup de xxup lei n ° xxrep 7 _ , xxup de 2016 ( xxmaj do xxmaj deputado xxmaj mendonça xxmaj filho ) xxmaj altera a xxmaj lei nº 12.249 , de 11 de junho de 2010 , para dispor sobre a incidência do xxmaj imposto sobre a xxmaj renda xxmaj retido na xxmaj fonte sobre rendimentos pagos , creditados , empregados , entregues ou remetidos para pessoas jurídicas domiciliadas no exterior nas hipóteses que menciona . o xxmaj congresso xxmaj nacional decreta : xxmaj art . 1º a xxmaj lei nº 12.249 , de 11 de junho de 2010 , passa a vigorar com a seguinte redação : “ xxmaj art . 60 . xxmaj ficam isentos do xxmaj imposto de xxmaj renda na fonte , até 31 de dezembro de 2019 , os valores pagos , creditados , entregues , empregados ou remetidos para pessoa física ou jurídica residente ou domiciliada no exterior , destinados à cobertura de gastos pessoais , no exterior , de pessoas físicas residentes no xxmaj país , em viagens de turismo , negócios , serviço , treinamento ou missões oficiais , até o limite global de xxup r$ xxunk ( vinte oito mil cento e vinte reais ) ao mês , nos termos , limites e condições estabelecidos pelo xxmaj poder xxmaj executivo . § 1o xxmaj incluem - se como gastos pessoais no exterior : i - despesas com serviços turísticos , tais como despesas com hotéis , transporte , xxunk , xxunk marítimos , aluguel de automóveis e seguro a xxunk ; xxup ii - despesas para fins educacionais , científicos ou culturais , bem como as destinadas a pagamento de taxas escolares , taxas de inscrição em congressos , xxunk , seminários ou assemelhados e taxas de exames de xxunk ; \n",
       " xxup iii – remessas para manutenção de dependentes no exterior , desde que não se xxunk de rendimentos auferidos pelos xxunk ; xxup iv - remessas por pessoas físicas , residentes e domiciliadas no xxmaj brasil , para cobertura de despesas médico - hospitalares com tratamento de saúde , no exterior , do remetente ou de seus dependentes . § 2o xxmaj salvo se atendidas as condições previstas no art . 26 , o disposto no caput não se aplica ao caso de beneficiário residente ou domiciliado em país ou dependência com tributação favorecida ou pessoa física ou jurídica submetida a regime fiscal privilegiado , de que tratam os arts . 24 e xxup 24-a da xxmaj lei no 9.430 , de 27 de dezembro de 1996 . § 3o o limite global previsto no caput não se aplica em relação às operadoras e agências de viagem . § 4o xxmaj as operadoras e agências de viagem , na hipótese de cumprimento da ressalva constante do § 2o , sujeitam - se ao limite de xxup r$ xxunk ( quatorze mil e sessenta reais ) ao mês por passageiro , obedecida a regulamentação do xxmaj poder xxmaj executivo , quanto a limites , quantidade de passageiros e condições para utilização da isenção , conforme o tipo de gasto custeado . § 5o xxmaj para fins de cumprimento das condições de isenção de que trata este artigo , as operadoras e agências de viagem deverão ser cadastradas no xxmaj ministério do xxmaj turismo e suas operações devem ser realizadas por intermédio de instituição financeira domiciliada no xxmaj país . ” ( xxup nr ) xxmaj art . 2º xxmaj esta xxmaj lei entra em vigor na data de sua publicação . o art . 60 da xxmaj lei nº 12.249 , de 11 de junho de 2010 , xxunk isenção do recolhimento do xxmaj imposto de xxmaj renda na fonte sobre gastos realizados no exterior , destinados à cobertura de gastos pessoais de pessoas físicas residentes no xxmaj país , em viagens de turismo , negócios , serviço , treinamento ou missões oficiais , até o limite global de xxup r$ 20.000,00 ( vinte mil reais ) ao mês . xxmaj para as agências de viagem e turismo o limite era de 10 mil reais ao mês por passageiro . xxmaj no entanto , com a xxunk do prazo do benefício , em 31 de dezembro de 2015 , simples remessas para pagamentos de reservas em hotéis , parques ou \n",
       " locação de veículos no exterior passaram a recolher o xxup xxunk na fonte , à alíquota de 25 % , independentemente do valor xxunk . o fim da isenção xxunk diretamente o setor de turismo , particularmente operadoras e agências de viagens . xxmaj dados da xxmaj associação xxmaj brasileira de xxmaj agências de xxmaj viagens ( xxmaj xxunk ) e da xxmaj associação xxmaj brasileira das xxmaj operadoras de xxmaj turismo apontam que o número de postos de trabalho xxunk no setor pode chegar a 184 mil diretos e xxunk mil indiretos . xxmaj acrescentem - se ainda as dúvidas e incertezas geradas pelo fim da isenção . o art . xxunk do xxmaj decreto xxunk , de 26 de março de 1999 , xxunk um rol de remessas ao exterior sujeitas à isenção do recolhimento do xxup xxunk na fonte , tais como aquelas destinadas à manutenção de dependentes no exterior , remessas para fins educacionais , científicos ou culturais , dentre outras . xxmaj em que pese as disposições do aludido xxmaj decreto , há relatos de que diversas instituições financeiras estão exigindo o recolhimento do imposto previamente à realização das remessas , o que tem provocado transtornos de toda ordem a milhares de pessoas em todo o xxmaj país . xxmaj face ao exposto e , considerando a necessidade de previsão legal para concessão do referido benefício fiscal , o presente projeto de lei altera o prazo de isenção constante do art . 60 da xxmaj lei nº 12.249 , de 2010 , xxunk - o para 31 de dezembro de 2019 , bem como xxunk monetariamente os limites de isenção pela variação do xxmaj índice xxmaj nacional de xxmaj preços ao xxmaj consumidor xxmaj amplo ( xxup ipca ) do período de janeiro / 2011 a dezembro / 2015 , de forma a proteger os cidadãos e os setores atingidos pela xxunk do prazo . xxmaj sala das xxmaj sessões , xxrep 5 _ de xxrep 14 _ de 2016 . xxup mendonça xxup filho xxmaj deputado xxmaj federal,xxbos xxmaj altera a xxmaj lei nº 9.394 , de 20 de dezembro de 1996 , xxmaj lei de xxmaj diretrizes e xxmaj bases da xxmaj educação , para dispor sobre a obrigatoriedade do ensino da música na educação básica . o xxmaj congresso xxmaj nacional decreta : xxmaj art . 1º o art . 26 da xxmaj lei nº 9.394 , de 20 de dezembro de 1996 , passa a vigorar acrescido dos seguintes § § : “ xxmaj art . 26 . xxrep 93 . xxrep 109 . § 6º a música deverá ser conteúdo obrigatório , mas não exclusivo , do xxunk xxunk de que trata o § 2º. § 7º o ensino da música será ministrado por professores com formação específica na área . ” ( xxup nr ) xxmaj art . 2º xxmaj os sistemas de ensino terão xxunk ) anos letivos para se xxunk às exigências estabelecidas no art . 1º. xxmaj art . 3º xxmaj esta xxmaj lei entra em vigor na data de sua publicação . xxmaj senado xxmaj federal , em de janeiro de 2008 . xxmaj senador xxmaj xxunk xxmaj alves xxmaj filho xxmaj presidente do xxmaj senado xxmaj federal gab / xxunk - 330 t\n",
       "y: MultiCategoryList\n",
       "44;70;52;56;40;34;61;41;58;57;64;54;66;46,34;40;70;57;66,74;51;57;34;52,57;44;70;60;74,44;70;52;56;61;46;48;58\n",
       "Path: .;\n",
       "\n",
       "Valid: LabelList (148 items)\n",
       "x: TextList\n",
       "xxbos xxup projeto xxup de xxup lei xxup complementar xxmaj nº ( xxmaj do xxmaj sr . xxmaj ronaldo xxmaj vasconcellos ) , xxup de 2003 xxmaj estabelece normas para cooperação entre a xxmaj união e os xxmaj estados , o xxmaj distrito xxmaj federal e os xxmaj municípios , regulamentando o parágrafo único do art . 23 da xxmaj constituição xxmaj federal . o xxmaj congresso xxmaj nacional decreta : xxmaj art . 1º xxmaj esta xxmaj lei xxmaj complementar estabelece normas para cooperação entre a xxmaj união e os xxmaj estados , o xxmaj distrito xxmaj federal e os xxmaj municípios , visando executar competências comuns , atendendo ao disposto no parágrafo único do art . 23 da xxmaj constituição xxmaj federal . xxmaj art . 2º xxmaj as atividades de execução decorrentes das competências relacionadas no caput do art . 23 da xxmaj constituição xxmaj federal serão desenvolvidas preferencialmente pelos xxmaj estados , pelo xxmaj distrito xxmaj federal e pelos xxmaj municípios , cabendo à xxmaj união : i - estabelecer as correspondentes políticas e diretrizes nacionais ; xxup ii – coordenar a execução de competências que envolvam ações de mais de um xxmaj ente da xxmaj federação . xxmaj parágrafo único . a xxmaj união atuará como executora nas seguintes circunstâncias : i - quando a atividade lhe for atribuída por lei ; xxup ii - nos casos de omissão ou incapacidade de atuação do respectivo xxmaj estado , do xxmaj distrito xxmaj federal ou do xxmaj município e com a respectiva anuência ; xxup iii - em programas específicos , mediante convênio com o xxmaj distrito xxmaj federal , com o xxmaj estado ou com o xxmaj município em cujo território desenvolver - se - á a atividade executora , com o objetivo de reduzir desequilíbrios regionais sociais e econômicos . xxmaj art . 3º a xxmaj união poderá delegar a xxmaj estado , ao xxmaj distrito xxmaj federal ou a xxmaj município , mediante convênio , a execução de competências a ela atribuídas por lei , desde que atendidas as seguintes condições : i - dispor o xxmaj estado , xxmaj distrito xxmaj federal , ou o xxmaj município de capacitação institucional e técnica compatível com as atividades a serem executadas ; xxup ii - as atividades a serem delegadas xxunk - se a interesses locais ; \n",
       " 2 xxup iii - houver interesse do xxmaj estado , do xxmaj distrito xxmaj federal ou do xxmaj município em assumir a execução das atividades a serem delegadas . xxmaj art . 4º xxmaj leis estaduais xxunk as formas de cooperação na execução de competências comuns xxunk ao território do xxmaj estado e dos respectivos xxmaj municípios . xxmaj art . 5º xxmaj esta xxmaj lei xxmaj complementar entra em vigor na data de sua publicação . xxmaj em nosso trabalho como xxmaj relator da xxmaj proposta de xxmaj fiscalização e xxmaj controle nº 33 , de 2000 , pela qual a xxmaj comissão de xxmaj defesa do xxmaj consumidor , xxmaj meio xxmaj ambiente e xxmaj minorias xxunk a xxmaj petrobras , quanto às ações de prevenção e controle de acidentes , xxunk uma evidente dificuldade dos órgãos ambientais federais ( xxup ibama e xxmaj xxunk dos xxmaj portos ) , estaduais e municipais em xxunk em conjunto . a falta de entendimento e a xxunk de procedimentos xxunk - se particularmente em situações que levaram à autuação da xxmaj petrobras por infrações à legislação ambiental . xxmaj multas aplicadas por três órgãos ambientais diferentes , em razão da mesma infração , xxunk valores xxunk diferentes . xxmaj ressaltam , também , a falta de uma coordenação mais eficiente , com eficiente sistema de tomada de decisões , nas medidas para reduzir ou eliminar os efeitos dos acidentes e xxunk , além de xxunk de atividades . xxmaj essa xxunk e , muito provavelmente outras que devem ocorrer em outras áreas da xxmaj administração xxmaj pública , decorre do fato de o artigo 23 da xxmaj constituição xxmaj federal estabelecer uma série de competências administrativas e executivas comuns à xxmaj união , aos xxmaj estados , ao xxmaj distrito xxmaj federal e aos xxmaj municípios . xxmaj muitas vezes , as administrações dos entes federativos ficam em dúvida sobre a quem deve recair a responsabilidade e , principalmente , como agir de forma coordenada e cooperativa para exercer adequadamente as competências comuns . a determinação e xxunk de competências comuns aos vários entes da xxmaj união é novidade trazida pela xxmaj constituição de 1988 e representa áreas de contato \" ou de xxunk de atividades que são ou poderão ser desenvolvidas por cada um desses entes . xxmaj em grandes grupos , conforme reunidos nos doze incisos do artigo , as competências comuns da xxmaj união , dos xxmaj estados , do xxmaj distrito xxmaj federal e dos xxmaj municípios são basicamente : a ) guarda da xxmaj constituição , das leis e das instituições democráticas ; b ) conservação do patrimônio público ; c ) saúde e assistência pública ; d ) proteção e assistência aos xxunk físicos ; \n",
       " 3 e ) acesso à cultura , à educação e à ciência ; f ) proteção do meio ambiente e combate à poluição ; g ) fomento à produção agropecuária e organização do abastecimento alimentar ; h ) habitação e saneamento básico ; i ) combate à pobreza e às causas da marginalização ; j ) registro e fiscalização de concessão para pesquisa e exploração de recursos hídricos e minerais ; k ) política de educação para segurança do trânsito . xxmaj algumas competências são obviamente inerentes a todos os membros da xxmaj união , cada um atuando dentro dos seus níveis de ação , de seus órgãos administrativos e dos bens que , constitucionalmente , são de sua propriedade . xxmaj no entanto , para a maioria das competências permanecem dúvidas tais como : - a xxmaj união , os xxmaj estados , o xxmaj distrito xxmaj federal e os xxmaj municípios devem atuar plenamente em todas as competências ? - a atuação conjunta da xxmaj união , dos xxmaj estados , do xxmaj distrito xxmaj federal e dos xxmaj municípios não xxunk uma sobreposição de esforços e recursos , que xxunk levaria a xxunk e xxunk ? - essa mesma atuação conjunta não poderia conduzir a políticas , diretrizes e ações xxunk ? xxmaj talvez já xxunk tais dúvidas , o parágrafo único do artigo 23 estabelece que lei complementar \" fixará normas para a cooperação entre a xxmaj união e os xxmaj estados , o xxmaj distrito xxmaj federal e os xxmaj municípios , tendo em vista o equilíbrio do desenvolvimento e do bem - estar em âmbito nacional \" . xxmaj embora este parágrafo único se refira à lei complementar como visando ao equilíbrio do desenvolvimento e do bem - estar nacional , parece ser ela também necessária para disciplinar até que ponto a xxmaj união , os xxmaj estados , o xxmaj distrito xxmaj federal e os xxmaj municípios atuarão em cada competência comum . xxmaj existem áreas em que a xxmaj união tem tradicionalmente atuado até como executora , como a habitação e o saneamento básico , para as quais a lógica e os fatos têm xxunk como mais conveniente serem executadas pelos xxmaj estados e xxmaj municípios . xxmaj outras há em que a atuação executiva da xxmaj união parece necessária pelo menos até que todos os xxmaj estados disponham de condições técnicas e institucionais adequadas , como é o caso de algumas atividades relacionadas à proteção ao meio ambiente e ao controle da poluição . xxmaj em áreas como a educação , a cultura e a ciência , a retirada total da xxmaj união como ente executor poderia provocar sérios prejuízos , já que a maioria dos xxmaj estados \n",
       " 4 não tem condições , por exemplo , de manter uma universidade pública . xxmaj além desses aspectos práticos , há que lembrar vários diplomas legais que xxunk à xxmaj união atividades executivas dentro das competências listadas no artigo 23 da xxmaj constituição . xxmaj como exemplo ressaltam - se a proteção ao meio ambiente e o combate à poluição , nos seguintes aspectos : - a xxmaj lei nº xxunk , de 15 de setembro de 1965 , ( xxmaj código xxmaj florestal ) em seu art . 19 confere ao xxmaj instituto xxmaj brasileiro do xxmaj meio xxmaj ambiente e dos xxmaj recursos xxmaj naturais xxmaj renováveis - xxup ibama a competência para aprovação de atividades de exploração de florestas ; - a xxmaj lei nº xxunk , de 3 de janeiro de 1967 , ( xxmaj lei de xxmaj proteção à xxmaj fauna ) remete a órgão do xxmaj ministério da xxmaj agricultura a competência para licenciar a caça e fiscalizar os aspectos relativos à proteção à fauna ; - o xxmaj decreto - xxmaj lei nº xxunk , de 14 de agosto de 1975 , que \" dispõe sobre o controle da poluição do meio ambiente provocada por atividades industriais \" , reserva exclusivamente ao xxmaj poder xxmaj executivo federal determinar ou cancelar a suspensão do funcionamento de estabelecimento industrial cuja atividade seja considerada de alto interesse do desenvolvimento e da segurança nacional . xxmaj esses são exemplos de competências especificadas no art . 23 como de competência comum da xxmaj união , xxmaj estados , xxmaj distrito xxmaj federal e xxmaj municípios e que , no entanto , já estão definidas em lei como da xxmaj união . xxmaj por outro lado , há casos , como o da xxmaj lei nº 6.938 , de 31 de agosto de 1981 , que dispõe sobre a xxmaj política xxmaj nacional do xxmaj meio xxmaj ambiente , em que as competências já são distribuídas entre a xxmaj união , xxmaj estados e xxmaj municípios , ficando a xxmaj união com tarefas de caráter normativo , do estabelecimento de políticas e diretrizes e de atuação xxunk . xxmaj assim , no que tange à xxmaj política xxmaj nacional de xxmaj meio xxmaj ambiente , a lei que a estabelece está de acordo com o espírito do art . 23 da xxmaj constituição . xxmaj uma lei complementar regulamentando o artigo 23 da xxmaj constituição xxmaj federal , dados esses fatos , deveria apresentar os seguintes requisitos principais : - xxunk aos xxmaj estados , ao xxmaj distrito xxmaj federal e aos xxmaj municípios as atividades de execução , ficando a xxmaj união xxunk de estabelecer políticas e diretrizes nacionais ; - permitir que a xxmaj união continue desenvolvendo atividades de execução que lhe forem atribuídas por lei , já que , mediante iniciativa do xxmaj poder xxmaj executivo xxmaj federal ou do xxmaj congresso xxmaj nacional , tais atribuições poderão ser alteradas conforme a evolução dos fatos assim o indicar ; - permitir a atuação da xxmaj união como executora em casos de omissão ou falta de condições dos xxmaj estados e do xxmaj distrito xxmaj federal , mediante xxunk destes ; - permitir a atuação da xxmaj união como executora , em consonância com \n",
       " 5 os xxmaj estados , para reduzir desequilíbrios regionais evidentes , em programas específicos ; - permitir que a xxmaj união xxunk , mediante convênios , aos xxmaj estados e xxmaj distrito xxmaj federal , ações executivas a ela atribuídas por lei . xxmaj com base nesses princípios , xxunk o projeto de lei complementar anexo , o qual permitirá , pelo menos , iniciar a discussão e o encaminhamento da matéria . xxmaj sala das xxmaj sessões , em de xxmaj deputado xxmaj ronaldo xxmaj vasconcellos xxunk de 2003 \",xxbos xxup medida xxup provisória xxmaj nº 671 , xxup de 19 xxup de xxup março xxup de 2015 . xxmaj institui o xxmaj programa de xxmaj modernização da xxmaj gestão e de xxmaj responsabilidade xxmaj fiscal do xxmaj futebol xxmaj brasileiro , dispõe sobre a gestão temerária no âmbito das entidades desportivas profissionais , e dá outras providências . a xxup presidenta xxup da xxup república , no uso da atribuição que lhe confere o art . 62 da xxmaj constituição , adota a seguinte xxmaj medida xxmaj provisória , com força de lei : xxmaj art . 1º xxmaj esta xxmaj medida xxmaj provisória institui o xxmaj programa de xxmaj modernização da xxmaj gestão e de xxmaj responsabilidade xxmaj fiscal do xxmaj futebol xxmaj brasileiro e dispõe sobre a gestão temerária no âmbito das entidades desportivas profissionais . xxup capítulo i xxup do xxup programa xxup de xxup modernização xxup da xxup gestão e xxup de xxup responsabilidade xxup fiscal xxup do xxup futebol xxup brasileiro - xxup profut xxmaj seção i xxmaj disposições xxmaj gerais xxmaj art . 2º xxmaj fica criado o xxmaj programa de xxmaj modernização da xxmaj gestão e de xxmaj responsabilidade xxmaj fiscal do xxmaj futebol xxmaj brasileiro - xxup profut , com o objetivo de promover a gestão transparente e democrática e o equilíbrio financeiro das entidades desportivas profissionais de futebol . xxmaj parágrafo único . xxmaj para os fins desta xxmaj medida xxmaj provisória , considera - se entidade desportiva profissional de futebol a entidade de prática desportiva xxunk em competições de atletas profissionais , nos termos dos art . 26 e art . 28 da xxmaj lei nº 9.615 , de 24 de março de 1998 , as ligas em que se xxunk e as respectivas entidades de administração de desporto profissional . xxmaj art . 3º a adesão ao xxup profut se dará com o requerimento das entidades desportivas profissionais de futebol ao parcelamento de que trata a xxmaj seção xxup ii deste xxmaj capítulo . xxmaj parágrafo único . xxmaj para aderir ao xxup profut , as entidades desportivas profissionais de futebol deverão apresentar os seguintes documentos : i - estatuto social e atos de designação e responsabilidade de seus gestores ; xxup ii - demonstrações financeiras e contábeis , nos termos da legislação aplicável ; xxup iii - relação das operações de antecipação de receitas realizadas , assinado pelos dirigentes e pelo conselho fiscal . xxmaj art . 4º xxmaj para que as entidades desportivas profissionais de futebol mantenham - se no xxup profut , serão exigidas as seguintes condições : i - regularidade das obrigações trabalhistas e tributárias federais correntes , vencidas a partir da data de publicação desta xxmaj medida xxmaj provisória , inclusive as retenções legais , na condição de responsável tributário , na forma da lei ; xxup ii - fixação do período do mandato de seu presidente ou dirigente máximo e demais cargos eletivos em até quatro anos , permitida uma única recondução ; xxup iii - comprovação da existência e a autonomia do seu conselho fiscal ; \n",
       " xxup iv - proibição de antecipação ou comprometimento de receitas referentes a períodos posteriores ao término da gestão ou do mandato , salvo : a ) o percentual de até trinta por cento das receitas referentes ao primeiro ano do mandato subsequente ; e b ) em substituição a passivos onerosos , desde que implique redução do nível de endividamento ; v - redução do déficit ou prejuízo , nos seguintes prazos : a ) a partir de 1º de janeiro de 2017 , para até dez por cento de sua receita bruta apurada no ano anterior ; b ) a partir de 1º de janeiro de 2019 , para até cinco por cento de sua receita bruta apurada no ano anterior ; e c ) a partir de 1º de janeiro de 2021 , sem déficit ou prejuízo ; xxup vi - publicação das demonstrações contábeis xxunk , separadamente por atividade econômica e por modalidade esportiva , de modo distinto das atividades xxunk e sociais , após terem sido submetidas a auditoria independente ; xxup vii - cumprimento dos contratos e regular pagamento dos encargos relativos a todos os profissionais contratados , referentes a verbas atinentes a salários , de xxmaj fundo de xxmaj garantia do xxmaj tempo de xxmaj serviço - xxup fgts , de contribuições previdenciárias , de pagamento das obrigações contratuais e outras xxunk com os atletas e demais funcionários , inclusive direito de imagem , ainda que não xxunk relação direta com o salário ; xxup viii - previsão , em seu estatuto ou contrato social , do afastamento imediato e inelegibilidade , pelo período de cinco anos , de dirigente ou administrador que praticar ato de gestão irregular ou temerária ; xxup ix - demonstração de que os custos com folha de pagamento e direitos de imagem de atletas profissionais de futebol não xxunk setenta por cento da receita bruta anual ; e x - manutenção de investimento mínimo na formação de atletas e no futebol feminino . § 1º xxmaj sem prejuízo do disposto nos incisos i a xxup viii do caput , no caso de entidade de administração do desporto , serão exigidas : i - a participação de atletas nos colegiados de direção e na eleição para os cargos da entidade ; e xxup ii - a representação da categoria de atletas no âmbito dos órgãos e conselhos técnicos incumbidos da aprovação de regulamentos das competições . § 2º xxmaj as entidades deverão publicar , em sítio eletrônico próprio , documentos que xxunk o cumprimento do disposto nos incisos i a x do caput , garantido o sigilo acerca dos valores pagos a atletas e demais profissionais contratados . § 3º xxmaj para os fins do disposto no inciso xxup iii do caput , será considerado autônomo o conselho fiscal que tenha asseguradas condições de instalação , funcionamento e independência , garantidas , no mínimo , por meio das seguintes medidas : i - escolha de seus membros mediante voto ou outro sistema estabelecido previamente à escolha ; xxup ii - exercício de mandato de seus membros , do qual só possam ser xxunk nas condições estabelecidas previamente ao seu início e determinada por órgão distinto daquele sob a sua fiscalização ; e \n",
       " xxup iii - existência de regimento interno que regule o seu funcionamento . § 4º xxmaj as entidades desportivas profissionais com faturamento anual inferior a xxup r$ 5.000.000,00 ( cinco milhões de reais ) ficam dispensadas do cumprimento do disposto nos incisos xxup iv , v e xxup ix do caput . § 5º xxmaj não constitui descumprimento da condição prevista no inciso xxup vii do caput a existência de débitos em discussão judicial . xxmaj art . 5º xxmaj as entidades desportivas profissionais de futebol que aderirem ao xxup profut somente poderão xxunk competições organizadas por entidade de administração do desporto ou liga que : i - xxunk , em sítio eletrônico próprio , sua prestação de contas e demonstrações contábeis xxunk , após terem sido submetidas a auditoria independente ; xxup ii - garanta a representação da categoria de atletas no âmbito dos órgãos e conselhos técnicos incumbidos da aprovação de regulamentos das competições ; xxup iii - assegure a existência e a autonomia do seu conselho fiscal ; xxup iv - estabeleça em seu estatuto : a ) mandato de até quatro anos para seu presidente ou dirigente máximo e demais cargos eletivos , permitida uma única recondução ; e b ) a participação de atletas nos colegiados de direção e na eleição para os cargos da entidade ; v - preveja , em seu regulamento geral de competições , a exigência , como condição de inscrição , que todos os participantes : a ) xxunk o disposto i a x do caput do art . 4º ; e b ) tenham regularidade fiscal , xxunk por meio de apresentação de xxmaj certidão xxmaj negativa de xxmaj débitos e xxmaj certificado de xxmaj regularidade do xxup fgts ; e xxup vi - preveja , em seu regulamento geral de competições , no mínimo , as seguintes sanções para o descumprimento das condições previstas nos incisos i a x do caput do art . 4º : a ) advertência ; b ) proibição de registro de contrato especial de trabalho xxunk , para os fins do § 5º do art . 28 da xxmaj lei nº 9.615 , de 1998 ; e c ) xxunk para a divisão imediatamente inferior ou eliminação do xxunk do ano seguinte . xxmaj parágrafo único . a aplicação das penalidades de que tratam as alíneas “ a ” a “ c ” do inciso xxup vi do caput não têm natureza desportiva ou disciplinar e xxunk de decisão prévia da xxmaj justiça xxmaj desportiva . xxmaj art . 6º xxmaj na hipótese de a entidade de administração do desporto não observar o disposto no art . 5º , a entidade desportiva profissional de futebol poderá manter - se no parcelamento de que trata a xxmaj seção xxup ii deste xxmaj capítulo se , no prazo de trezentos e sessenta dias , aderir a uma liga que cumpra as condições contidas no referido artigo . § 1º xxmaj na hipótese prevista no caput , a liga poderá comunicar a sua criação à entidade nacional de administração do desporto e optar por integrar seu sistema , desde que suas competições sejam incluídas no calendário anual de eventos oficiais da modalidade . \n",
       " § 2º a liga equipara - se à entidade de administração do desporto para fins de cumprimento do disposto nesta xxmaj medida xxmaj provisória e na xxmaj lei nº 9.615 , de 1998 . § 3º é vedada qualquer intervenção das entidade de administração do desporto nas ligas que se mantiverem independentes . § 4º a entidade nacional de administração do desporto e a liga serão responsáveis pela organização do calendário anual de eventos oficiais da modalidade . xxmaj seção xxup ii xxmaj do parcelamento especial de débitos das entidades desportivas profissionais de futebol perante a xxmaj união xxmaj subseção i xxmaj disposições gerais xxmaj art . 7º xxmaj as entidades desportivas profissionais de futebol que aderirem ao xxup profut poderão xxunk os débitos junto à xxmaj secretaria da xxmaj receita xxmaj federal do xxmaj brasil do xxmaj ministério da xxmaj fazenda , à xxmaj procuradoria - xxmaj geral da xxmaj fazenda xxmaj nacional e ao xxmaj banco xxmaj central do xxmaj brasil , e os débitos previstos na xxmaj subseção xxup ii , junto ao xxmaj ministério do xxmaj trabalho e xxmaj emprego . § 1º o disposto neste artigo se aplica aos débitos tributários ou não tributários , cujos fatos geradores tenham ocorrido até 31 de dezembro de 2014 , constituídos ou não , inscritos ou não como xxmaj dívida xxmaj ativa , mesmo que em fase de execução fiscal ajuizada , ou que tenham sido objeto de parcelamento anterior , não integralmente quitado , ainda que cancelado por falta de pagamento . § 2º o requerimento de parcelamento implica confissão irrevogável e irretratável dos débitos abrangidos pelo parcelamento e configura confissão extrajudicial . § 3º xxmaj para inclusão no parcelamento de que trata este xxmaj capítulo de débitos que se encontrem vinculados a discussão administrativa ou judicial , submetidos ou não a hipótese legal de suspensão , o devedor deverá desistir de forma irrevogável , até o prazo final para adesão , de impugnações ou recursos administrativos , de ações judiciais propostas ou de qualquer defesa em sede de execução fiscal e , cumulativamente , xxunk a quaisquer alegações de direito sobre as quais se xxunk os processos administrativos e as ações judiciais . § 4º o devedor poderá ser intimado , a qualquer tempo , pelo órgão ou autoridade competente , a comprovar que xxunk requerimento de extinção dos processos , com resolução do mérito . xxmaj art . 8º o parcelamento de que trata esta xxmaj seção fica condicionado à indicação , pela entidade desportiva profissional de futebol , de instituição financeira que xxunk todas suas receitas e movimentações financeiras , inclusive relativas a direitos creditícios decorrentes de contratos celebrados com patrocinadores , com veículos de comunicação ou provenientes de direito de xxunk . § 1º xxmaj no caso de alteração da instituição financeira centralizadora , a entidade desportiva profissional de futebol deverá comunicar o fato aos órgãos referidos no caput do art . 7º no prazo máximo de trinta dias . § 2º xxmaj os depósitos de valores referentes aos direitos creditícios referidos no caput e a quaisquer outras receitas dos xxunk de futebol deverão ser realizados exclusivamente na instituição centralizadora . § 3º xxmaj no momento da adesão ao parcelamento , a entidade desportiva profissional de futebol deverá xxunk poderes para que a instituição financeira centralizadora xxunk , em sua conta , o valor da parcela devida mensalmente e promova o seu recolhimento , em nome da \n",
       " entidade desportiva profissional , por meio documento de arrecadação de tributos federais , ou , no caso do xxmaj banco xxmaj central do xxmaj brasil , por meio de transferência bancária para a conta corrente indicada no termo de parcelamento . § 4º xxmaj na hipótese de os recursos disponíveis na conta corrente da entidade desportiva profissional de futebol não serem suficientes para o pagamento da parcela devida no mês , a entidade desportiva profissional de futebol deverá realizar , no vencimento , o pagamento do saldo da parcela por meio de documento de arrecadação de tributos federais ou , no caso do xxmaj banco xxmaj central do xxmaj brasil , por meio de transferência bancária para a conta corrente indicada no termo de parcelamento . xxmaj art . 9º a dívida objeto do parcelamento será consolidada , no âmbito de cada órgão responsável pela cobrança , na data do pedido , e deverá ser paga : i - em até cento e vinte parcelas , com redução de setenta por cento das multas , de trinta por cento dos juros e de cem por cento dos encargos legais ; ou xxup ii - em até duzentas e quatro parcelas , com redução de sessenta por cento das multas , de vinte e cinco por cento dos juros e de cem por cento dos encargos legais . § 1º xxmaj para fins de consolidação dos parcelamentos previstos no caput , o contribuinte deverá recolher trinta e seis parcelas mensais xxunk , equivalentes a : a ) dois por cento da média mensal da receita total dos últimos doze meses anteriores ao do pagamento , caso a relação entre a dívida total incluída no parcelamento e a receita total do ano - calendário anterior seja igual ou inferior a quarenta por cento ; b ) quatro por cento da média mensal da receita total dos últimos doze meses anteriores ao do pagamento , caso a relação entre a dívida total incluída no parcelamento e a receita total do ano - calendário anterior seja superior a quarenta por cento e igual ou inferior a sessenta por cento ; ou c ) seis por cento da média mensal da receita total dos últimos doze meses anteriores ao do pagamento , caso a relação entre a dívida total incluída no parcelamento e a receita total do ano - calendário anterior seja superior a sessenta por cento ; e § 2º xxmaj no ato da consolidação serão considerados os pagamentos xxunk na forma do § 1º e o saldo remanescente será xxunk pelo número de parcelas previsto nos incisos i ou xxup ii do caput . § 3º o valor das antecipações referidas no § 1º estará limitado a : i - um cento e vinte avos do valor total consolidado da dívida , no caso referido no inciso i do caput ; ou xxup ii - um duzentos e quatro avos do valor total consolidado da dívida , no caso referido no inciso xxup ii do caput . § 4º xxmaj para efeitos desta xxmaj medida xxmaj provisória , considera - se receita total o somatório : a ) da receita bruta mensal , inclusive os direitos creditícios de que trata o caput do art . 8º ; b ) das demais receitas e ganhos de capital ; c ) dos ganhos líquidos obtidos em operações realizadas nos mercados de renda variável ; e d ) dos rendimentos nominais produzidos por aplicações financeiras de renda fixa . § 5º xxmaj os percentuais de que trata o inciso i do § 1º serão xxunk de maneira proporcional entre os órgãos para os quais exista parcelamento deferido . \n",
       " § 6º o valor das parcelas de que trata este artigo não poderá ser inferior a xxup r$ 10.000,00 ( dez mil reais ) . § 7º xxmaj as reduções previstas no caput não serão xxunk com outras reduções admitidas em lei . § 8º xxmaj na hipótese de anterior concessão de redução de multas ou de juros em percentuais diversos dos estabelecidos no caput , xxunk os percentuais nele referidos , aplicados sobre o saldo original das multas ou dos juros . § 9º xxmaj enquanto não consolidada a dívida pelo órgão responsável , o contribuinte deve calcular e indicar para a instituição financeira centralizadora o valor da antecipação e da parcela devida a cada órgão a ser paga na forma do § 3º do art . 8º. § 10 o valor de cada uma das parcelas , determinado na forma deste artigo , será acrescido de juros obtidos pela aplicação da taxa referencial do xxmaj sistema xxmaj especial de xxmaj liquidação e de xxmaj custódia - xxmaj selic para títulos federais , acumulada mensalmente , calculados a partir do mês subsequente ao da consolidação até o mês anterior ao do pagamento , e de um por cento relativamente ao mês em que o pagamento estiver sendo efetuado . § 11 . xxmaj as prestações xxunk no último dia útil de cada mês , sendo que : i - a primeira parcela da antecipação deverá ser paga até o último dia útil do mês de adesão : e xxup ii - xxup ii - a prestação do parcelamento deverá ser paga até o último dia útil do mês seguinte ao do término do pagamento das antecipações previstas no § 1º. § 12 . xxmaj por ocasião da consolidação , será exigida a regularidade de todas as antecipações e prestações devidas desde o mês de adesão até o mês anterior ao da conclusão da consolidação dos débitos parcelados nos termos do disposto neste artigo . xxmaj art . 10 . xxmaj na hipótese de os débitos a serem parcelados estarem vinculados a depósitos administrativos ou judiciais , os percentuais de redução previstos no caput do art . 9º serão aplicados sobre o valor do débito atualizado à época do depósito e somente incidirão sobre o valor das multas de mora e de ofício , das multas isoladas , dos juros de mora e do encargo legal efetivamente depositados . xxmaj art . 11 . o requerimento de parcelamento deverá ser apresentado até o último dia útil do terceiro mês subsequente ao da publicação desta xxmaj medida xxmaj provisória . § 1º o deferimento do parcelamento não autoriza o levantamento de garantias eventualmente existentes , as quais só poderão ser xxunk após a quitação do parcelamento ao qual o débito garantido esteja vinculado . § 2º xxmaj nos casos de penhora de direitos creditícios de recebimento parcelado , ficará suspensa a obrigatoriedade de depósito judicial dos xxunk durante a vigência do parcelamento e xxunk a penhora do contrato até a quitação do parcelamento de que trata esta xxmaj seção . § 3º o disposto no § 2º aplica - se também aos acordos judiciais firmados entre a xxmaj união e a entidade desportiva profissional . xxmaj art . 12 . xxmaj não serão devidos honorários advocatícios ou qualquer verba de sucumbência nas ações judiciais que , direta ou indiretamente , vierem a ser extintas em decorrência de adesão ao parcelamento de que trata esta xxmaj seção . xxmaj art . 13 . xxmaj ao parcelamento de que trata esta xxmaj seção , não se aplica o disposto no § 1º do art . 3º da xxmaj lei nº xxunk , de 10 de abril de 2000 , e no § 10 do art . 1º da xxmaj lei nº 10.684 , de 30 de maio de 2003 . \n",
       " xxmaj subseção xxup ii xxmaj das condições específicas para o parcelamento de débitos relativos ao xxup fgts e às contribuições instituídas pela xxmaj lei xxmaj complementar nº 110 , de 29 de junho de 2001 xxmaj art . 14 . xxmaj as dívidas das entidades desportivas profissionais de futebol relativas ao xxup fgts e às contribuições instituídas pela xxmaj lei xxmaj complementar nº 110 , de 29 de junho de 2001 , poderão ser xxunk em até cento e oitenta prestações mensais , observadas as condições estabelecidas nesta xxmaj subseção . § 1º o deferimento dos parcelamentos de débitos será feito pelo xxmaj ministério do xxmaj trabalho e xxmaj emprego ou pela xxmaj procuradoria - xxmaj geral da xxmaj fazenda xxmaj nacional , diretamente ou por intermédio da xxmaj caixa xxmaj econômica xxmaj federal , mediante autorização . § 2º xxmaj as reduções previstas no caput do art . 9º não se aplicam aos débitos relativos ao xxup fgts destinados à cobertura de xxunk devidas aos trabalhadores . § 3º xxmaj nas hipóteses em que o trabalhador fizer jus à utilização de valores de sua conta vinculada ao xxup fgts durante o período de vigência do parcelamento , a entidade deverá , sob pena de rescisão , antecipar os recolhimentos relativos ao trabalhador , podendo observar o valor da parcela vigente para realizar as antecipações . § 4º o valor do débito , para fins de quitação da parcela e do saldo remanescente do parcelamento , será atualizado conforme a xxmaj lei nº 8.036 , de 11 de maio de 1990 . xxmaj art . 15 . xxmaj os depósitos existentes vinculados aos débitos a serem parcelados nos termos desta xxmaj medida xxmaj provisória serão automaticamente xxunk em renda para o xxup fgts após aplicação das reduções para pagamento ou parcelado . xxmaj parágrafo único . xxmaj no caso previsto no caput , deve o juiz determinar à xxmaj caixa xxmaj econômica xxmaj federal que proceda à emissão da guia própria e xxunk sua quitação com os valores depositados . xxmaj art . 16 . o pedido de parcelamento deferido constitui confissão de dívida e instrumento hábil e suficiente para a exigência do crédito devido ao xxup fgts . xxmaj art . 17 . xxmaj ao parcelamento dos débitos de que trata esta xxmaj subseção , aplica - se o disposto na xxmaj subseção i , exceto o disposto no art . 10 , cabendo ao xxmaj conselho xxmaj curador do xxup fgts , nos termos do inciso xxup ix do art . 5º da xxmaj lei 8.036 , de 1990 , a determinação dos demais critérios a serem aplicados ao parcelamento . xxmaj subseção xxup iii xxmaj da rescisão do parcelamento xxmaj art . 18 . xxmaj implicará imediata rescisão do parcelamento , com cancelamento dos benefícios concedidos : i - o descumprimento do disposto nos art . 4º e art . 5º , observado o disposto nos art . 22 a art . 25 ; xxup ii - a falta de pagamento de três antecipações ou de parcelas consecutivas ; ou xxup iii - a falta de pagamento de até duas prestações , se extintas todas as demais ou xxunk a última prestação do parcelamento . xxmaj parágrafo único . é considerada xxunk a antecipação e a parcela parcialmente paga . xxmaj art . 19 . xxmaj xxunk o parcelamento : \n",
       " i - será efetuada a apuração do valor original do débito , xxunk - se os acréscimos legais na forma da legislação aplicável à época da ocorrência dos fatos geradores ; e xxup ii - será deduzido do valor referido no inciso i o valor correspondente às antecipações e prestações extintas . xxmaj art . 20 . xxmaj na hipótese de rescisão do parcelamento , a entidade desportiva de que trata o parágrafo único do art . 2º não poderá se beneficiar de incentivo ou benefício fiscal previsto na legislação federal nem poderá receber repasses de recursos públicos federais da administração direta ou indireta pelo prazo de dois anos , contado da data da rescisão . xxup capítulo xxup ii xxup da xxup autoridade xxup pública xxup de xxup governança xxup do xxup futebol - xxup apfut xxmaj seção i xxmaj disposições gerais xxmaj art . 21 . xxmaj fica criado , no âmbito do xxmaj ministério do xxmaj esporte , o xxmaj autoridade xxmaj pública de xxmaj governança do xxmaj futebol - xxup apfut , com as seguintes competências : i - fiscalizar as obrigações previstas nos art . 4º e art . 5º e , em caso de descumprimento , comunicar ao órgão federal responsável para fins de exclusão do xxup profut ; xxup ii - expedir regulamentação sobre : a ) as condições previstas nos incisos xxup ii a x do caput do art . 4º ; b ) os documentos referidos no § 2º do art . 4º ; c ) os parâmetros mínimos de participação a que se refere o inciso xxup ii do caput do art . 5º. xxup iii - requisitar informações e documentos às entidades desportivas profissionais ; e xxup iv - elaborar e aprovar o seu regimento interno . § 1º xxmaj no que se refere ao disposto na alínea “ a ” do inciso xxup ii do caput , o xxup apfut poderá ainda estabelecer : i - critérios para que as despesas realizadas com o planejamento e a execução de obras de infraestrutura , tais como xxunk e centro de treinamento , não sejam contabilizadas no cálculo do déficit , do nível de endividamento e da limitação de antecipação de receitas ; xxup ii - condições e limites quanto à antecipação de receitas de passivos onerosos ; e xxup iii - padrões de investimento em formação de atletas e no futebol feminino , conforme porte e estrutura da entidade desportiva profissional . § 2º o xxup apfut contará com a participação de representantes do xxmaj poder xxmaj executivo federal e da sociedade civil , na forma do regulamento . § 3º xxmaj na fiscalização do cumprimento das obrigações de que trata o inciso i do caput , o xxup apfut poderá fixar prazos para que sejam xxunk irregularidades . § 4º o apoio e assessoramento técnico ao xxup apfut será prestado pelo xxmaj ministério do xxmaj esporte . § 5º xxmaj decreto do xxmaj poder xxmaj executivo federal disporá sobre a organização e o funcionamento do xxup apfut . \n",
       " xxmaj seção xxup ii xxmaj da apuração de eventual descumprimento das condições previstas nos art . 4º e art . 5º xxmaj art . 22 . xxmaj para apurar eventual descumprimento das condições previstas nos art . 4º e art . 5º , o xxup apfut xxunk de ofício ou quando provocada mediante denúncia fundamentada . § 1º xxmaj são legitimados para apresentar a denúncia referida no caput : i - a entidade nacional ou regional de administração do desporto ; xxup ii - a entidade desportiva profissional ; xxup iii - o xxunk profissional vinculado à entidade desportiva profissional xxunk ; xxup iv - a associação de atletas profissionais ; v -a associação de empregados de entidade desportiva profissional ; e xxup vi - o xxmaj ministério do xxmaj trabalho e xxmaj emprego . xxmaj art . 23 . xxmaj no caso de denúncia recebida , relacionada a eventual descumprimento das condições previstas nos arts . 4º e 5º , o xxup apfut deverá , nos termos do regulamento : i - notificar a entidade beneficiária do parcelamento para apresentar sua defesa no prazo de quinze dias ; xxup ii - solicitar , no prazo de quinze dias , informações à entidade de administração do desporto ou liga sobre a existência de procedimento para apuração de irregularidade objeto da denúncia em seu âmbito ; e xxup iii - disponibilizar , em seu sítio eletrônico , as informações sobre denúncias recebidas e as informações encaminhadas pelas entidades nacionais de administração do desporto , na forma do inciso xxup ii . § 1º xxmaj caso a denúncia tenha sido encaminhada pela entidade de administração do desporto ou liga de que faça parte a entidade beneficiária do parcelamento , não se aplica o disposto no inciso xxup ii do caput . § 2º o xxup apfut poderá xxunk o andamento do processo para aguardar a definição da apuração no âmbito da entidade de administração do desporto ou liga . § 3º a divulgação prevista no inciso xxup iii do caput deverá preservar a identidade do xxunk . xxmaj art . 24 . xxmaj esgotado o prazo para apresentação da defesa e recebimento das informações , a xxup apfut decidirá xxunk acerca do descumprimento do disposto nos art . 4º e art . 5º podendo : i - arquivar a denúncia ; xxup ii - xxunk a entidade desportiva profissional ; xxup iii - xxunk a entidade desportiva profissional e fixar prazo de até cento e oitenta dias para que xxunk a situação objeto da denúncia ; ou xxup iv - comunicar o fato ao órgão federal responsável pelo parcelamento para que este proceda à efetiva exclusão do parcelamento . \n",
       " xxmaj art . 25 . o xxup apfut poderá deixar de realizar a comunicação a que se refere o inciso xxup iv do caput do art . 24 caso : i - a entidade desportiva profissional , quando cabível : a ) adote mecanismos de responsabilização pessoal dos dirigentes e membros de conselho que tiverem dado causa às irregularidades ; e b ) xxunk situação que tenha motivado a advertência ; e xxup ii - a entidade de administração do desporto ou liga xxunk uma das sanções previstas nas alíneas “ b ” e “ c ” do inciso xxup vi do caput do art . 5º. § 1º xxmaj para os fins do disposto no caput , o xxup apfut somente deixará de realizar a comunicação aos órgãos xxunk federais responsáveis pelo parcelamento se as sanções referidas nas alíneas “ b ” e “ c ” do inciso xxup vi do caput do art . 5º : i - forem aplicadas por órgão específico da entidade nacional de administração do desporto ou liga no qual seja assegurada a participação de representantes de atletas e entidades desportivas profissionais ; e xxup ii - sejam comunicadas pela entidade de administração do desporto ao xxup apfut no prazo máximo de cinco dias . § 2º xxmaj caso a entidade de prática desportiva profissional seja xxunk , o xxup apfut somente deixará de realizar a comunicação a que se refere o inciso xxup iv do caput do art . 24 caso a entidade de administração do desporto ou liga xxunk a sanção prevista na alínea c do inciso xxup vi do caput do art . 5º. xxup capítulo xxup iii xxup da xxup gestão xxup temerária xxup nas xxup entidades xxup desportivas xxup profissionais xxup de xxup futebol xxmaj art . 26 . xxmaj os dirigentes das entidades desportivas profissionais de futebol , independentemente da forma jurídica adotada , devem empregar , no exercício de suas funções , o xxunk e a diligência que todo homem ativo e xxunk costuma empregar na administração dos seus próprios negócios , sujeitando seus bens particulares ao disposto no art . 50 da xxmaj lei nº 10.406 , de 10 de janeiro de 2002 - xxmaj código xxmaj civil . § 1º xxmaj para os fins do disposto nesta xxmaj medida xxmaj provisória , dirigente é todo aquele que exerça , de fato ou de direito , poder de decisão na gestão da entidade . § 2º xxmaj os dirigentes de entidades desportivas profissionais respondem solidária e xxunk pelos atos ilícitos praticados e pelos atos de gestão irregular ou temerária ou contrários ao previsto no contrato social ou estatuto . § 3º o dirigente que , tendo conhecimento do não cumprimento dos deveres xxunk ou contratuais por seu xxunk ou pelo administrador competente , deixar de comunicar o fato ao órgão estatutário competente , será responsabilizado solidariamente . xxmaj art . 27 . xxmaj consideram - se atos de gestão irregular ou temerária praticados pelo dirigente aqueles que xxunk desvio de finalidade na direção da entidade ou que gerem risco excessivo e xxunk para seu patrimônio , tais como : i - aplicar créditos ou bens sociais em proveito próprio ou de terceiros ; xxup ii - obter , para si ou para outrem , vantagem a que não faz jus e de que resulte ou possa resultar prejuízo para a entidade desportiva profissional ; \n",
       " xxup iii - celebrar contrato com empresa que tenha como dirigente seu cônjuge ou companheiro , ou parente , em linha reta , colateral ou por afinidade , até o terceiro grau ; xxup iv - o recebimento de qualquer pagamento , doação ou outra forma de repasse de recursos oriundos de terceiros que , no prazo de até um ano , antes ou depois do repasse , tenham celebrado contrato com a entidade desportiva profissional ; v - antecipar ou comprometer receitas referentes a períodos posteriores ao término da gestão ou do mandato , salvo : a ) o percentual de até trinta por cento das receitas referentes ao primeiro ano do mandato subsequente ; ou b ) em substituição a passivos onerosos , desde que implique redução do endividamento ; e xxup vi - formar déficit ou prejuízo anual acima de vinte por cento da receita bruta apurada no ano anterior . § 1º xxmaj em qualquer hipótese , o dirigente não será responsabilizado caso : i - não tenha xxunk com culpa grave ou dolo ; ou xxup ii - comprove que xxunk de boa - fé e que as medidas realizadas visavam a evitar prejuízo maior a entidade . § 2º xxmaj para os fins do disposto no inciso xxup iv do caput , também será considerado ato de gestão irregular ou temerária o recebimento de qualquer pagamento , doação ou outra forma de repasse de recursos por : i - cônjuge ou companheiro do dirigente ; xxup ii - parentes do dirigente , em linha reta , colateral ou por afinidade , até o terceiro grau ; e xxup iii - empresa ou sociedade civil da qual o dirigente , seu cônjuge ou companheiro ou parentes , em linha reta , colateral ou por afinidade , até o terceiro grau , sejam sócios ou administradores . § 3º xxmaj para os fins do disposto no inciso xxup vi do caput , não serão considerados atos de gestão irregular ou temerária o aumento de endividamento decorrente de despesas relativas ao planejamento e à execução de obras de infraestrutura , tais como xxunk e centros de treinamento . xxmaj art . 28 . xxmaj os dirigentes que praticarem atos de gestão irregular ou temerária poderão ser responsabilizados por meio de mecanismos de controle social internos da entidade . § 1º xxmaj na ausência de disposição específica , caberá à assembleia geral da entidade deliberar sobre a instauração de procedimentos de apuração de responsabilidade . § 2º a assembleia geral poderá ser convocada por quinze por cento dos associados com direito a voto para deliberar sobre a instauração de procedimento de apuração de responsabilidade dos dirigentes , caso , após três meses da ciência do ato tido como de gestão irregular ou temerária : i - não tenha sido instaurado o referido procedimento ; ou xxup ii - não tenha sido convocada assembleia geral para deliberar sobre os procedimentos internos de apuração da responsabilidade . § 3º xxmaj caso xxunk a responsabilidade , o dirigente será considerado xxunk , por dez anos , para cargos eletivos em qualquer entidade desportiva profissional . \n",
       " xxmaj art . 29 . xxmaj compete à entidade , mediante prévia deliberação da assembleia geral , adotar medida judicial cabível contra os dirigentes para ressarcimento dos prejuízos causados ao seu patrimônio . § 1º xxmaj os dirigentes contra os quais deva ser proposta medida judicial ficarão impedidos e deverão ser xxunk na mesma assembleia . § 2º o impedimento previsto no § 1º será suspenso caso a medida judicial não tenha sido proposta após três meses da deliberação da assembleia geral . xxup capítulo xxup iv xxup disposições xxup finais e xxup transitórias xxmaj art . 30 . xxmaj aplicam - se a todas entidades desportivas previstas no parágrafo único do art . 13 da xxmaj lei nº 9.615 , de 1998 , o disposto nos art . 26 a art . 29 . xxmaj art . 31 . xxmaj observadas as condições de ingresso referidas no parágrafo único do art . 3º , poderão aderir aos parcelamentos a que se referem a seção xxup ii do xxmaj capítulo i : i - as entidades nacionais e regionais de administração do desporto referidas nos incisos xxup iii e xxup iv do parágrafo único do art . 13 da xxmaj lei nº 9.615 , xxunk ; e xxup ii - as entidades de prática desportiva referidas no inciso xxup vi do parágrafo único do art . 13 da xxmaj lei nº 9.615 , de 1998 , que não estejam envolvidas em competições de atletas profissionais , nos termos dos art . 26 e art . 28 da referida xxmaj lei . § 1º xxmaj as entidades referidas no inciso i do caput deverão observar as condições de manutenção previstas nos incisos i , xxup ii , xxup iii , xxup vi , xxup vii e xxup viii do caput do art . 4º e no inciso i do caput do art . 5º. § 2º xxmaj as entidades referidas no inciso xxup ii do caput deverão observar as condições de manutenção previstas nos incisos i , xxup ii , xxup iii , xxup vi , xxup vii e xxup viii do caput do art . 4º. § 3º xxmaj as condições previstas nos § § 1º e 2º serão xxunk pelo xxmaj ministério do xxmaj esporte , que comunicará aos órgãos federais responsáveis os casos de descumprimento , para fins de exclusão do parcelamento e providências cabíveis quanto à isenção fiscal . xxmaj art . 32 . a xxmaj lei nº xxunk , de 15 de maio de 2003 , passa a vigorar com as seguintes alterações : “ xxmaj xxunk . xxrep 72 . xxrep 94 . § 5º xxmaj não configura ofensa ao disposto no caput a imposição de sanções decorrentes de irregularidades referente a responsabilidade financeira e gestão transparente e democrática previstas na xxmaj medida xxmaj provisória nº 671 , de 19 de março de 2015 . ” ( xxup nr ) “ xxmaj art . 37 . xxrep 71 . xxrep 94 . § 2º a xxmaj união , os xxmaj estados , o xxmaj distrito xxmaj federal e os xxmaj municípios poderão instituir , no âmbito de suas competências , multas em razão do descumprimento do disposto nesta xxmaj lei , observado o valor mínimo de xxup r$ 100,00 ( cem reais ) e o valor máximo de xxup r$ 2.000.000,00 ( dois milhões de reais ) . ” ( xxup nr ) xxmaj art . 33 . a xxmaj lei nº 9.615 , de 24 de março de 1998 , passa a vigorar com as seguintes alterações : \n",
       " “ xxmaj art . xxup xxunk xxrep 69 . xxrep 94 . § 1º xxrep 80 . xxrep 94 . xxup ii - na alínea “ g ” do inciso xxup vii do caput , no que se refere à eleição para os cargos de direção da entidade ; e xxrep 82 . ” ( xxup nr ) “ xxmaj art . 23 . xxrep 71 . xxrep 94 . xxup ii - inelegibilidade , por dez anos , de seus dirigentes para desempenho de cargos e funções xxunk ou de livre nomeação de : xxrep 94 . xxup iii - a garantia de representação , com direito a voto , da categoria de atletas e entidades de prática esportiva das respectivas modalidades , no âmbito dos órgãos e conselhos técnicos incumbidos da aprovação de regulamentos das competições . § 1º xxmaj independentemente de previsão estatutária , é obrigatório o afastamento preventivo e imediato dos dirigentes , eleitos ou nomeados , caso incorram em qualquer das hipóteses do inciso xxup ii do caput , assegurado o processo regular e a ampla defesa para a destituição . § 2º xxmaj os representantes dos atletas de que trata do inciso xxup iii do caput deverão ser escolhidos pelo voto destes , em eleição direta , organizada pela entidade de administração do desporto , em conjunto com as entidades que os representem , observando - se , quanto ao processo eleitoral , o disposto no art . 22 . ” ( xxup nr ) “ xxmaj art . 89 . xxrep 70 . xxmaj parágrafo único . xxmaj não configura ofensa ao disposto no caput a imposição de sanções decorrentes de irregularidades na responsabilidade financeira esportiva e na gestão transparente e democrática previstas na xxmaj medida xxmaj provisória nº 671 , de 19 de março de 2015 . ” ( xxup nr ) xxmaj art . 34 . xxmaj serão exigidas : i - a partir da entrada em vigor desta xxmaj medida xxmaj provisória , as condições previstas nos incisos i a xxup vii do caput do art . 4º ; e xxup ii - a partir de 1º de janeiro de 2016 , as condições previstas : a ) nos incisos xxup viii a x do caput do art . 4º ; b ) no parágrafo único do art . 4º , e c ) no art . 5º. xxmaj art . 35 . a xxmaj secretaria da xxmaj receita xxmaj federal do xxmaj brasil do xxmaj ministério da xxmaj fazenda , o xxmaj ministério do xxmaj trabalho e xxmaj emprego , a xxmaj procuradoria - xxmaj geral da xxmaj fazenda xxmaj nacional e a xxmaj procuradoria - xxmaj geral do xxmaj banco xxmaj central do xxmaj brasil , no âmbito de suas atribuições , xxunk as normas necessárias à execução dos parcelamentos previstos nesta xxmaj medida xxmaj provisória . \n",
       " xxmaj art . 36 . xxmaj esta xxmaj medida xxmaj provisória entra em vigor na data de sua publicação . xxmaj art . 37 . xxmaj fica revogada a xxmaj medida xxmaj provisória nº 669 , de 26 de fevereiro de 2015 . xxmaj brasília , 19 de março de 2015 ; 194º da xxmaj independência e 127º da xxmaj república . xxup dilma xxup rousseff xxmaj joaquim xxmaj vieira xxmaj ferreira xxmaj levy xxmaj xxunk xxmaj xxunk xxmaj luís xxmaj inácio xxmaj xxunk xxmaj xxunk xxmaj este texto não substitui o publicado no xxup dou de xxunk e republicado em xxunk,xxbos xxmaj câmara dos xxmaj deputados xxup proposta xxup de xxup emenda à xxup constituição xxmaj nº ( xxmaj do xxmaj sr . xxmaj cabo xxmaj daciolo e outros ) , xxup de 2015 xxmaj acresce inciso ao art . 61 , § 2º , da xxmaj constituição xxmaj federal , para garantir a efetividade e tornar célere a iniciativa popular no âmbito do processo legislativo , da mesma forma como ocorre com as medidas provisórias . xxmaj as xxmaj mesas da xxmaj câmara dos xxmaj deputados e do xxmaj senado xxmaj federal , nos termos do art . 60 da xxmaj constituição xxmaj federal , promulgam a seguinte emenda ao texto constitucional : xxmaj artigo 1º o art . 61 da xxmaj constituição xxmaj federal passa a vigorar acrescido do seguinte inciso : “ xxmaj art . 61 xxrep 117 . xxrep 127 . § 2º xxrep 120 . xxrep 127 . i - a xxmaj iniciativa xxmaj popular não sendo apreciada em até sessenta dias contados de sua apresentação à xxmaj câmara dos xxmaj deputados , entrará em regime de urgência , xxunk , em cada uma das xxmaj casas do xxmaj congresso xxmaj nacional , ficando sobrestadas , até que se ultime a votação , todas as demais deliberações legislativas da xxmaj casa em que estiver tramitando . ” ( xxup nr ) xxmaj artigo 2º xxmaj esta xxmaj emenda xxmaj constitucional entra em vigor na data de sua xxunk xxmaj xxunk xxmaj ribeiro xxmaj junior : “ a iniciativa popular , em linhas gerais , é o instrumento segundo o qual a xxmaj constituição xxunk , formalmente , a possibilidade de os cidadãos serem os responsáveis diretos pela propositura de um projeto de lei . xxmaj criada pelo constituinte originário , ela é um dos xxunk da \n",
       " xxmaj câmara dos xxmaj deputados soberania popular ( xxunk , xxup iii , da xxmaj constituição ) , onde os cidadãos , reunidos e organizados nos termos do xxunk , § 2º , da xxmaj constituição , podem apresentar à xxmaj câmara dos xxmaj deputados um projeto de lei oriundo da mais legítima vontade social . ” xxmaj desde que a xxmaj constituição de 1988 xxunk aos eleitores o direito de apresentar projetos de lei de iniciativa popular , em quatro xxunk o xxmaj congresso xxunk em norma uma proposta elaborada pela sociedade . o projeto xxmaj ficha xxmaj xxunk foi o último . é xxunk e imprescindível a participação popular na elaboração de um projeto de lei , embora representados pelos parlamentares . o que me causa xxunk e xxunk é a forma como um projeto de lei de iniciativa popular é tratado pelo xxmaj congresso xxmaj nacional . xxmaj seguindo o rito dos demais projetos de leis , a iniciativa popular , como xxunk da sociedade e que expressa xxunk o clamor dela , fica xxunk da morosidade do xxmaj regimento xxmaj interno de ambas as xxmaj casas . xxmaj entendo que a xxmaj iniciativa xxmaj popular , instituto de soberania popular capaz de xxunk o processo legislativo , merece a mesma atenção e celeridade das medidas provisórias editadas pela xxmaj presidência da xxmaj república , conforme prevê a xxmaj constituição . xxmaj se todo o poder emana do povo , a proposta de iniciativa popular deverá então seguir o mesmo rito constitucional de urgência e relevância das medidas provisórias . xxmaj pelas razões xxunk , submeto aos nobres pares a presente xxmaj proposta de xxmaj emenda à xxmaj constituição , reiterando a defesa de sua pertinência constitucional e a importância de sua aprovação . xxmaj sala das xxmaj sessões , em de xxup cabo xxup daciolo xxup deputado xxup federal xxup psol / xxup rj de 2015 .,xxbos,xxbos xxmaj requerimento de xxmaj informação ( xxmaj dos xxmaj srs . xxmaj luiz xxmaj alberto e xxmaj joão xxmaj alfredo ) xxmaj solicito informações ao xxmaj ministro da xxmaj fazenda a respeito do financiamento concedido pelo xxup bndes a empresa xxmaj veracel celulose pertencente ao grupo xxmaj xxunk e xxmaj xxunk xxmaj xxunk . xxmaj sr . xxmaj presidente , xxmaj com fundamento no art . 50 § 2º da xxmaj constituição xxmaj federal , e nos arts . 24 , inciso v e xxunk , e 115 , inciso i , do xxmaj regimento xxmaj interno da xxmaj câmara dos xxmaj deputados , solicito informações ao xxmaj ministro da xxmaj fazenda a respeito do financiamento concedido pelo xxup bndes a empresa xxmaj veracel celulose pertencente ao grupo xxmaj xxunk e xxmaj xxunk xxmaj xxunk . o xxup bndes aprovou no dia 16 de dezembro um financiamento da ordem de xxup r$ xxunk bilhão para empresa xxmaj veracel celulose . xxmaj este financiamento visa a implantação de uma fábrica de celulose no sul da xxmaj bahia precisamente no município de xxmaj eunápolis , cuja sede fica a cerca de 64 km de distância da costa atlântica , à margem da xxup br-101 , rodovia federal que xxunk o xxmaj país na direção norte - sul . xxmaj por se tratar de um empreendimento localizado estritamente em área no xxmaj estado da xxmaj bahia , o processo de licenciamento ambiental se dá pelo órgão ambiental estadual segundo 1 \n",
       " o que determina a lei 6938 de 1981 , xxmaj lei da xxmaj política xxmaj nacional de xxmaj meio xxmaj ambiente . xxmaj não obstante a este fato , o xxup bndes deve se xxunk a norma federal que determina que os bancos estatais xxunk a sua concessão à comprovação do licenciamento ambiental previsto no xxunk ambiental nacional , se não vejamos . o licenciamento ambiental é requisito formal fundamental para a operação de atividades potencialmente xxunk ou xxunk de alguma degradação ao meio ambiente . xxmaj este licenciamento não é requisito formal básico para inclusão de projetos no orçamento da xxmaj união , mas sim para financiamentos de projetos , ou seja recursos financeiros onerosos . xxmaj professor e xxunk xxmaj paulo xxmaj xxunk xxmaj xxunk xxmaj machado assim xxunk sobre o tema : o dinheiro que financia a produção e o consumo fica xxunk à moralidade e à legalidade dessa produção e desse consumo . a destinação do dinheiro não é , evidente , neutra ou xxunk de xxunk ética . xxmaj nem o dinheiro privado nem o dinheiro público podem financiar o crime , em qualquer de suas xxunk , e , portanto não podem financiar a poluição e a degradação da natureza . xxmaj não é por acaso que a própria xxmaj constituição do xxmaj país deixou expresso que o sistema financeiro nacional de \" servir aos interesses da xxunk ) ” . xxmaj neste xxunk , vale lembrar que os xxmaj bancos do xxmaj brasil , do xxmaj nordeste do xxmaj brasil s / a , da xxmaj amazônia s / a , o xxup bndes e a xxup cef aderiram a \" xxmaj declaração de xxmaj princípio para o xxmaj desenvolvimento xxmaj sustentável \" . xxmaj esta xxmaj declaração em seu 7º princípio indica que \" as leis e xxunk ambientais devem ser aplicadas e exigidas , cabendo aos bancos participar de sua divulgação \" . é de clareza solar que o princípio em tela visa garantir que os bancos não xxunk empreendimentos potencialmente poluidores sem uma garantia de que este investimento irá respeitar o princípio da xxunk em todas as etapas de sua atividade . xxmaj neste sentido podemos afirmar que as instituições financeiras citadas fizeram uma adesão pública ao artigo 12 da lei 6938 / 81 . xxmaj ressalta - se que o decreto xxunk 1990 , que regulamento a lei 6938 , em seu artigo 23 reforça o xxunk do artigo 12 da xxmaj lei em comento ao orientar que : \" xxmaj as entidades governamentais de financiamento ou xxunk de incentivos , xxunk a sua concessão à comprovação do licenciamento previsto neste decreto \" . 2 \n",
       " xxmaj neste sentido , para que não haja dúvidas quanto a atitude xxunk do xxup bndes na operação de créditos a indústria xxmaj veracel solicitamos que sejam fornecidas as seguintes informações e documentos : 1 . xxmaj inteiro teor da carta de intenções entre a xxmaj empresa xxmaj veracel e o xxup bndes ; 2 . xxmaj cópia do contrato entre o xxup bndes e a xxmaj veracel ; 3 . xxmaj quais critérios ambientais foram utilizados na seleção da propostas da xxmaj veracel ? 4 . a xxmaj veracel apresentou o seu licenciamento ambiental ? xxmaj se apresentou qual das licenças foi apresentada , enviar cópia do licenciamento : a ) xxmaj licença xxmaj prévia ; b ) xxmaj licença de xxmaj instalação ; c ) xxmaj licença de xxmaj operação . xxmaj sala das xxmaj comissões 19 de janeiro de 2004 . xxmaj luiz xxmaj alberto xxmaj joão xxmaj alfredo xxmaj deputado xxmaj federal xxup pt / xxup ba xxmaj deputado xxmaj federal xxup pt / xxup ce 3 \"\n",
       "y: MultiCategoryList\n",
       "34;41;70;40;74;66;58,39;70,57;43;53;34;74;58,51;54,48;54;61;41;40\n",
       "Path: .;\n",
       "\n",
       "Test: None"
      ]
     },
     "execution_count": 353,
     "metadata": {},
     "output_type": "execute_result"
    }
   ],
   "source": [
    "bs=48\n",
    "data_class = (TextList.from_df(df_final, cols=\"full_text\", vocab=data_lm.vocab)\n",
    "              .split_by_rand_pct(0.3)\n",
    "              .label_from_df(cols='target', label_delim=' ')\n",
    "              .databunch(bs=bs, num_workers=8))\n",
    "#               .add_test(TextList.from_df(df_test, cols=['text'])) \n",
    "data_class"
   ]
  },
  {
   "cell_type": "code",
   "execution_count": 356,
   "metadata": {
    "ExecuteTime": {
     "end_time": "2020-06-10T20:02:57.036344Z",
     "start_time": "2020-06-10T20:02:56.623737Z"
    }
   },
   "outputs": [
    {
     "data": {
      "text/plain": [
       "SequentialRNN(\n",
       "  (0): MultiBatchEncoder(\n",
       "    (module): AWD_LSTM(\n",
       "      (encoder): Embedding(12952, 400, padding_idx=1)\n",
       "      (encoder_dp): EmbeddingDropout(\n",
       "        (emb): Embedding(12952, 400, padding_idx=1)\n",
       "      )\n",
       "      (rnns): ModuleList(\n",
       "        (0): WeightDropout(\n",
       "          (module): LSTM(400, 1152, batch_first=True)\n",
       "        )\n",
       "        (1): WeightDropout(\n",
       "          (module): LSTM(1152, 1152, batch_first=True)\n",
       "        )\n",
       "        (2): WeightDropout(\n",
       "          (module): LSTM(1152, 400, batch_first=True)\n",
       "        )\n",
       "      )\n",
       "      (input_dp): RNNDropout()\n",
       "      (hidden_dps): ModuleList(\n",
       "        (0): RNNDropout()\n",
       "        (1): RNNDropout()\n",
       "        (2): RNNDropout()\n",
       "      )\n",
       "    )\n",
       "  )\n",
       "  (1): PoolingLinearClassifier(\n",
       "    (layers): Sequential(\n",
       "      (0): BatchNorm1d(1200, eps=1e-05, momentum=0.1, affine=True, track_running_stats=True)\n",
       "      (1): Dropout(p=0.4, inplace=False)\n",
       "      (2): Linear(in_features=1200, out_features=50, bias=True)\n",
       "      (3): ReLU(inplace=True)\n",
       "      (4): BatchNorm1d(50, eps=1e-05, momentum=0.1, affine=True, track_running_stats=True)\n",
       "      (5): Dropout(p=0.1, inplace=False)\n",
       "      (6): Linear(in_features=50, out_features=30, bias=True)\n",
       "    )\n",
       "  )\n",
       ")"
      ]
     },
     "execution_count": 356,
     "metadata": {},
     "output_type": "execute_result"
    }
   ],
   "source": [
    "acc_02 = partial(accuracy_thresh, thresh=0.2)\n",
    "f_score = partial(fbeta, thresh=0.2)\n",
    "\n",
    "learn_c = text_classifier_learner(data_class,\n",
    "                                  AWD_LSTM,\n",
    "                                  metrics=[acc_02, f_score]).to_fp16()\n",
    "\n",
    "learn_c.load_encoder(home_dir/'models/language_model_enc')\n",
    "learn_c.model\n"
   ]
  },
  {
   "cell_type": "code",
   "execution_count": 357,
   "metadata": {
    "ExecuteTime": {
     "end_time": "2020-06-10T20:04:42.144977Z",
     "start_time": "2020-06-10T20:03:12.527248Z"
    }
   },
   "outputs": [
    {
     "data": {
      "text/html": [
       "\n",
       "    <div>\n",
       "        <style>\n",
       "            /* Turns off some styling */\n",
       "            progress {\n",
       "                /* gets rid of default border in Firefox and Opera. */\n",
       "                border: none;\n",
       "                /* Needs to be in here for Safari polyfill so background images work as expected. */\n",
       "                background-size: auto;\n",
       "            }\n",
       "            .progress-bar-interrupted, .progress-bar-interrupted::-webkit-progress-bar {\n",
       "                background: #F44336;\n",
       "            }\n",
       "        </style>\n",
       "      <progress value='13' class='' max='15', style='width:300px; height:20px; vertical-align: middle;'></progress>\n",
       "      86.67% [13/15 01:20<00:12]\n",
       "    </div>\n",
       "    \n",
       "<table border=\"1\" class=\"dataframe\">\n",
       "  <thead>\n",
       "    <tr style=\"text-align: left;\">\n",
       "      <th>epoch</th>\n",
       "      <th>train_loss</th>\n",
       "      <th>valid_loss</th>\n",
       "      <th>accuracy_thresh</th>\n",
       "      <th>fbeta</th>\n",
       "      <th>time</th>\n",
       "    </tr>\n",
       "  </thead>\n",
       "  <tbody>\n",
       "    <tr>\n",
       "      <td>0</td>\n",
       "      <td>0.742208</td>\n",
       "      <td>#na#</td>\n",
       "      <td>00:06</td>\n",
       "    </tr>\n",
       "    <tr>\n",
       "      <td>1</td>\n",
       "      <td>0.741454</td>\n",
       "      <td>#na#</td>\n",
       "      <td>00:06</td>\n",
       "    </tr>\n",
       "    <tr>\n",
       "      <td>2</td>\n",
       "      <td>0.742259</td>\n",
       "      <td>#na#</td>\n",
       "      <td>00:06</td>\n",
       "    </tr>\n",
       "    <tr>\n",
       "      <td>3</td>\n",
       "      <td>0.741181</td>\n",
       "      <td>#na#</td>\n",
       "      <td>00:06</td>\n",
       "    </tr>\n",
       "    <tr>\n",
       "      <td>4</td>\n",
       "      <td>0.740175</td>\n",
       "      <td>#na#</td>\n",
       "      <td>00:06</td>\n",
       "    </tr>\n",
       "    <tr>\n",
       "      <td>5</td>\n",
       "      <td>0.740303</td>\n",
       "      <td>#na#</td>\n",
       "      <td>00:06</td>\n",
       "    </tr>\n",
       "    <tr>\n",
       "      <td>6</td>\n",
       "      <td>0.738966</td>\n",
       "      <td>#na#</td>\n",
       "      <td>00:06</td>\n",
       "    </tr>\n",
       "    <tr>\n",
       "      <td>7</td>\n",
       "      <td>0.735322</td>\n",
       "      <td>#na#</td>\n",
       "      <td>00:06</td>\n",
       "    </tr>\n",
       "    <tr>\n",
       "      <td>8</td>\n",
       "      <td>0.726495</td>\n",
       "      <td>#na#</td>\n",
       "      <td>00:06</td>\n",
       "    </tr>\n",
       "    <tr>\n",
       "      <td>9</td>\n",
       "      <td>0.707019</td>\n",
       "      <td>#na#</td>\n",
       "      <td>00:06</td>\n",
       "    </tr>\n",
       "    <tr>\n",
       "      <td>10</td>\n",
       "      <td>0.656982</td>\n",
       "      <td>#na#</td>\n",
       "      <td>00:06</td>\n",
       "    </tr>\n",
       "    <tr>\n",
       "      <td>11</td>\n",
       "      <td>0.626660</td>\n",
       "      <td>#na#</td>\n",
       "      <td>00:06</td>\n",
       "    </tr>\n",
       "    <tr>\n",
       "      <td>12</td>\n",
       "      <td>0.617258</td>\n",
       "      <td>#na#</td>\n",
       "      <td>00:06</td>\n",
       "    </tr>\n",
       "  </tbody>\n",
       "</table><p>\n",
       "\n",
       "    <div>\n",
       "        <style>\n",
       "            /* Turns off some styling */\n",
       "            progress {\n",
       "                /* gets rid of default border in Firefox and Opera. */\n",
       "                border: none;\n",
       "                /* Needs to be in here for Safari polyfill so background images work as expected. */\n",
       "                background-size: auto;\n",
       "            }\n",
       "            .progress-bar-interrupted, .progress-bar-interrupted::-webkit-progress-bar {\n",
       "                background: #F44336;\n",
       "            }\n",
       "        </style>\n",
       "      <progress value='5' class='' max='7', style='width:300px; height:20px; vertical-align: middle;'></progress>\n",
       "      71.43% [5/7 00:05<00:02 1.4088]\n",
       "    </div>\n",
       "    "
      ],
      "text/plain": [
       "<IPython.core.display.HTML object>"
      ]
     },
     "metadata": {},
     "output_type": "display_data"
    },
    {
     "name": "stdout",
     "output_type": "stream",
     "text": [
      "LR Finder is complete, type {learner_name}.recorder.plot() to see the graph.\n",
      "Min numerical gradient: 8.32E-02\n",
      "Min loss divided by 10: 1.32E-01\n"
     ]
    },
    {
     "data": {
      "image/png": "[encoded data removed]",
      "text/plain": [
       "<Figure size 432x288 with 1 Axes>"
      ]
     },
     "metadata": {
      "needs_background": "light"
     },
     "output_type": "display_data"
    }
   ],
   "source": [
    "learn_c.lr_find()\n",
    "learn_c.recorder.plot(suggestion=True)"
   ]
  },
  {
   "cell_type": "code",
   "execution_count": 359,
   "metadata": {
    "ExecuteTime": {
     "end_time": "2020-06-10T20:08:40.270763Z",
     "start_time": "2020-06-10T20:05:07.697382Z"
    }
   },
   "outputs": [
    {
     "data": {
      "text/html": [
       "<table border=\"1\" class=\"dataframe\">\n",
       "  <thead>\n",
       "    <tr style=\"text-align: left;\">\n",
       "      <th>epoch</th>\n",
       "      <th>train_loss</th>\n",
       "      <th>valid_loss</th>\n",
       "      <th>accuracy_thresh</th>\n",
       "      <th>fbeta</th>\n",
       "      <th>time</th>\n",
       "    </tr>\n",
       "  </thead>\n",
       "  <tbody>\n",
       "    <tr>\n",
       "      <td>0</td>\n",
       "      <td>0.695162</td>\n",
       "      <td>0.540694</td>\n",
       "      <td>0.259685</td>\n",
       "      <td>0.363796</td>\n",
       "      <td>00:42</td>\n",
       "    </tr>\n",
       "    <tr>\n",
       "      <td>1</td>\n",
       "      <td>0.541144</td>\n",
       "      <td>0.364051</td>\n",
       "      <td>0.661261</td>\n",
       "      <td>0.449491</td>\n",
       "      <td>00:42</td>\n",
       "    </tr>\n",
       "    <tr>\n",
       "      <td>2</td>\n",
       "      <td>0.467468</td>\n",
       "      <td>0.362264</td>\n",
       "      <td>0.729054</td>\n",
       "      <td>0.444476</td>\n",
       "      <td>00:42</td>\n",
       "    </tr>\n",
       "    <tr>\n",
       "      <td>3</td>\n",
       "      <td>0.427779</td>\n",
       "      <td>0.349635</td>\n",
       "      <td>0.779505</td>\n",
       "      <td>0.443486</td>\n",
       "      <td>00:42</td>\n",
       "    </tr>\n",
       "    <tr>\n",
       "      <td>4</td>\n",
       "      <td>0.400357</td>\n",
       "      <td>0.347404</td>\n",
       "      <td>0.787838</td>\n",
       "      <td>0.434932</td>\n",
       "      <td>00:43</td>\n",
       "    </tr>\n",
       "  </tbody>\n",
       "</table>"
      ],
      "text/plain": [
       "<IPython.core.display.HTML object>"
      ]
     },
     "metadata": {},
     "output_type": "display_data"
    }
   ],
   "source": [
    "lr = 1e-1\n",
    "learn_c.freeze()\n",
    "learn_c.fit_one_cycle(5, lr, moms=(0.8,0.7))"
   ]
  },
  {
   "cell_type": "code",
   "execution_count": 360,
   "metadata": {
    "ExecuteTime": {
     "end_time": "2020-06-10T20:13:35.875220Z",
     "start_time": "2020-06-10T20:09:59.384430Z"
    }
   },
   "outputs": [
    {
     "data": {
      "text/html": [
       "<table border=\"1\" class=\"dataframe\">\n",
       "  <thead>\n",
       "    <tr style=\"text-align: left;\">\n",
       "      <th>epoch</th>\n",
       "      <th>train_loss</th>\n",
       "      <th>valid_loss</th>\n",
       "      <th>accuracy_thresh</th>\n",
       "      <th>fbeta</th>\n",
       "      <th>time</th>\n",
       "    </tr>\n",
       "  </thead>\n",
       "  <tbody>\n",
       "    <tr>\n",
       "      <td>0</td>\n",
       "      <td>0.320884</td>\n",
       "      <td>0.351483</td>\n",
       "      <td>0.776802</td>\n",
       "      <td>0.436152</td>\n",
       "      <td>00:42</td>\n",
       "    </tr>\n",
       "    <tr>\n",
       "      <td>1</td>\n",
       "      <td>0.320862</td>\n",
       "      <td>0.356394</td>\n",
       "      <td>0.764189</td>\n",
       "      <td>0.419319</td>\n",
       "      <td>00:43</td>\n",
       "    </tr>\n",
       "    <tr>\n",
       "      <td>2</td>\n",
       "      <td>0.320055</td>\n",
       "      <td>0.352837</td>\n",
       "      <td>0.760135</td>\n",
       "      <td>0.437172</td>\n",
       "      <td>00:43</td>\n",
       "    </tr>\n",
       "    <tr>\n",
       "      <td>3</td>\n",
       "      <td>0.317379</td>\n",
       "      <td>0.339143</td>\n",
       "      <td>0.774099</td>\n",
       "      <td>0.463039</td>\n",
       "      <td>00:43</td>\n",
       "    </tr>\n",
       "    <tr>\n",
       "      <td>4</td>\n",
       "      <td>0.316678</td>\n",
       "      <td>0.331955</td>\n",
       "      <td>0.784685</td>\n",
       "      <td>0.476788</td>\n",
       "      <td>00:43</td>\n",
       "    </tr>\n",
       "  </tbody>\n",
       "</table>"
      ],
      "text/plain": [
       "<IPython.core.display.HTML object>"
      ]
     },
     "metadata": {},
     "output_type": "display_data"
    }
   ],
   "source": [
    "learn_c.unfreeze()\n",
    "learn_c.fit_one_cycle(5, lr/(2.6**4), moms=(0.8,0.7))"
   ]
  },
  {
   "cell_type": "code",
   "execution_count": null,
   "metadata": {},
   "outputs": [],
   "source": []
  }
 ],
 "metadata": {
  "kernelspec": {
   "display_name": "Python 3",
   "language": "python",
   "name": "python3"
  },
  "language_info": {
   "codemirror_mode": {
    "name": "ipython",
    "version": 3
   },
   "file_extension": ".py",
   "mimetype": "text/x-python",
   "name": "python",
   "nbconvert_exporter": "python",
   "pygments_lexer": "ipython3",
   "version": "3.7.4"
  },
  "varInspector": {
   "cols": {
    "lenName": 16,
    "lenType": 16,
    "lenVar": 40
   },
   "kernels_config": {
    "python": {
     "delete_cmd_postfix": "",
     "delete_cmd_prefix": "del ",
     "library": "var_list.py",
     "varRefreshCmd": "print(var_dic_list())"
    },
    "r": {
     "delete_cmd_postfix": ") ",
     "delete_cmd_prefix": "rm(",
     "library": "var_list.r",
     "varRefreshCmd": "cat(var_dic_list()) "
    }
   },
   "types_to_exclude": [
    "module",
    "function",
    "builtin_function_or_method",
    "instance",
    "_Feature"
   ],
   "window_display": false
  }
 },
 "nbformat": 4,
 "nbformat_minor": 2
}
